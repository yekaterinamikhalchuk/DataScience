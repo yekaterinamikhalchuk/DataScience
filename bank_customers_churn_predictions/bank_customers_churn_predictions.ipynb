{
 "cells": [
  {
   "cell_type": "markdown",
   "metadata": {
    "toc": true
   },
   "source": [
    "<h1>Содержание<span class=\"tocSkip\"></span></h1>\n",
    "<div class=\"toc\"><ul class=\"toc-item\"><li><span><a href=\"#Цель-и-задача\" data-toc-modified-id=\"Цель-и-задача-1\"><span class=\"toc-item-num\">1&nbsp;&nbsp;</span>Цель и задача</a></span></li><li><span><a href=\"#Импорт-необходимых-библиотек\" data-toc-modified-id=\"Импорт-необходимых-библиотек-2\"><span class=\"toc-item-num\">2&nbsp;&nbsp;</span>Импорт необходимых библиотек</a></span></li><li><span><a href=\"#Получение-первичной-информации-о-данных\" data-toc-modified-id=\"Получение-первичной-информации-о-данных-3\"><span class=\"toc-item-num\">3&nbsp;&nbsp;</span>Получение первичной информации о данных</a></span></li><li><span><a href=\"#Предобработка-данных\" data-toc-modified-id=\"Предобработка-данных-4\"><span class=\"toc-item-num\">4&nbsp;&nbsp;</span>Предобработка данных</a></span></li><li><span><a href=\"#Преобразование-данных-для-обучения-модели\" data-toc-modified-id=\"Преобразование-данных-для-обучения-модели-5\"><span class=\"toc-item-num\">5&nbsp;&nbsp;</span>Преобразование данных для обучения модели</a></span></li><li><span><a href=\"#Разделение-данных-на-выборки-и-выделение-признаков\" data-toc-modified-id=\"Разделение-данных-на-выборки-и-выделение-признаков-6\"><span class=\"toc-item-num\">6&nbsp;&nbsp;</span>Разделение данных на выборки и выделение признаков</a></span></li><li><span><a href=\"#Стандартизация-числовых-данных\" data-toc-modified-id=\"Стандартизация-числовых-данных-7\"><span class=\"toc-item-num\">7&nbsp;&nbsp;</span>Стандартизация числовых данных</a></span></li><li><span><a href=\"#Подсчет-метрики-accuracy-для-различных-моделей\" data-toc-modified-id=\"Подсчет-метрики-accuracy-для-различных-моделей-8\"><span class=\"toc-item-num\">8&nbsp;&nbsp;</span>Подсчет метрики accuracy для различных моделей</a></span><ul class=\"toc-item\"><li><span><a href=\"#Дерево-решений\" data-toc-modified-id=\"Дерево-решений-8.1\"><span class=\"toc-item-num\">8.1&nbsp;&nbsp;</span>Дерево решений</a></span></li><li><span><a href=\"#Случайный-лес\" data-toc-modified-id=\"Случайный-лес-8.2\"><span class=\"toc-item-num\">8.2&nbsp;&nbsp;</span>Случайный лес</a></span></li><li><span><a href=\"#Логистическая-регрессия\" data-toc-modified-id=\"Логистическая-регрессия-8.3\"><span class=\"toc-item-num\">8.3&nbsp;&nbsp;</span>Логистическая регрессия</a></span></li></ul></li><li><span><a href=\"#Составление-матрицы-ошибок-и-расчет-метрик\" data-toc-modified-id=\"Составление-матрицы-ошибок-и-расчет-метрик-9\"><span class=\"toc-item-num\">9&nbsp;&nbsp;</span>Составление матрицы ошибок и расчет метрик</a></span><ul class=\"toc-item\"><li><span><a href=\"#Матрица-ошибок-для-дерева-решений\" data-toc-modified-id=\"Матрица-ошибок-для-дерева-решений-9.1\"><span class=\"toc-item-num\">9.1&nbsp;&nbsp;</span>Матрица ошибок для дерева решений</a></span></li><li><span><a href=\"#Матрица-ошибок-для-случайного-леса\" data-toc-modified-id=\"Матрица-ошибок-для-случайного-леса-9.2\"><span class=\"toc-item-num\">9.2&nbsp;&nbsp;</span>Матрица ошибок для случайного леса</a></span></li><li><span><a href=\"#Матрица-ошибок-для-логистической-регрессии\" data-toc-modified-id=\"Матрица-ошибок-для-логистической-регрессии-9.3\"><span class=\"toc-item-num\">9.3&nbsp;&nbsp;</span>Матрица ошибок для логистической регрессии</a></span></li></ul></li><li><span><a href=\"#Увеличение-выборки\" data-toc-modified-id=\"Увеличение-выборки-10\"><span class=\"toc-item-num\">10&nbsp;&nbsp;</span>Увеличение выборки</a></span><ul class=\"toc-item\"><li><span><a href=\"#Дерево-решений\" data-toc-modified-id=\"Дерево-решений-10.1\"><span class=\"toc-item-num\">10.1&nbsp;&nbsp;</span>Дерево решений</a></span></li><li><span><a href=\"#Случайный-лес\" data-toc-modified-id=\"Случайный-лес-10.2\"><span class=\"toc-item-num\">10.2&nbsp;&nbsp;</span>Случайный лес</a></span></li><li><span><a href=\"#Логистическая-регрессия\" data-toc-modified-id=\"Логистическая-регрессия-10.3\"><span class=\"toc-item-num\">10.3&nbsp;&nbsp;</span>Логистическая регрессия</a></span></li></ul></li><li><span><a href=\"#Уменьшение-выборки\" data-toc-modified-id=\"Уменьшение-выборки-11\"><span class=\"toc-item-num\">11&nbsp;&nbsp;</span>Уменьшение выборки</a></span><ul class=\"toc-item\"><li><span><a href=\"#Дерево-решений\" data-toc-modified-id=\"Дерево-решений-11.1\"><span class=\"toc-item-num\">11.1&nbsp;&nbsp;</span>Дерево решений</a></span></li><li><span><a href=\"#Случайный-лес\" data-toc-modified-id=\"Случайный-лес-11.2\"><span class=\"toc-item-num\">11.2&nbsp;&nbsp;</span>Случайный лес</a></span></li><li><span><a href=\"#Логистическая-регрессия\" data-toc-modified-id=\"Логистическая-регрессия-11.3\"><span class=\"toc-item-num\">11.3&nbsp;&nbsp;</span>Логистическая регрессия</a></span></li></ul></li><li><span><a href=\"#Улучшение-модели\" data-toc-modified-id=\"Улучшение-модели-12\"><span class=\"toc-item-num\">12&nbsp;&nbsp;</span>Улучшение модели</a></span></li></ul></div>"
   ]
  },
  {
   "cell_type": "markdown",
   "metadata": {},
   "source": [
    "# Отток клиентов"
   ]
  },
  {
   "cell_type": "markdown",
   "metadata": {},
   "source": [
    "## Цель и задача"
   ]
  },
  {
   "cell_type": "markdown",
   "metadata": {},
   "source": [
    "Из «Бета-Банка» стали уходить клиенты. Каждый месяц. Немного, но заметно. Банковские маркетологи посчитали: сохранять текущих клиентов дешевле, чем привлекать новых.\n",
    "\n",
    "**Цель:** спрогнозировать, уйдёт клиент из банка в ближайшее время или нет. \n",
    "\n",
    "**Задачи:**\n",
    "- Загрузить и подготовить данные, объясняя порядок действий.\n",
    "- Исследовать баланс классов, обучить модель без учёта дисбаланса. \n",
    "- Улучшить качество модели, учитывая дисбаланс классов. Обучить разные модели и найти лучшую. \n",
    "- Провесьти финальное тестирование.\n",
    "\n",
    "\n",
    "Источник данных: [https://www.kaggle.com/barelydedicated/bank-customer-churn-modeling](https://www.kaggle.com/barelydedicated/bank-customer-churn-modeling)"
   ]
  },
  {
   "cell_type": "markdown",
   "metadata": {},
   "source": [
    "**Признаки:**\n",
    "    \n",
    " - `RowNumber` — индекс строки в данных. \n",
    "    \n",
    " - `CustomerId` — уникальный идентификатор клиента\n",
    "    \n",
    " - `Surname` — фамилия\n",
    " - `CreditScore` — кредитный рейтинг\n",
    " - `Geography` — страна проживания\n",
    " - `Gender` — пол\n",
    " - `Age` — возраст\n",
    " - `Tenure` — количество недвижимости у клиента\n",
    " - `Balance` — баланс на счёте\n",
    " - `NumOfProducts` — количество продуктов банка, используемых клиентом\n",
    " - `HasCrCard` — наличие кредитной карты\n",
    " - `IsActiveMember` — активность клиента\n",
    " - `EstimatedSalary` — предполагаемая зарплата \n",
    " \n",
    " \n",
    "**Целевой признак**\n",
    "\n",
    " - `Exited` — факт ухода клиента"
   ]
  },
  {
   "cell_type": "markdown",
   "metadata": {},
   "source": [
    "# Подготовка данных"
   ]
  },
  {
   "cell_type": "markdown",
   "metadata": {},
   "source": [
    "## Импорт необходимых библиотек"
   ]
  },
  {
   "cell_type": "code",
   "execution_count": 1,
   "metadata": {},
   "outputs": [],
   "source": [
    "import pandas as pd \n",
    "from sklearn.tree import DecisionTreeClassifier\n",
    "from sklearn.ensemble import RandomForestClassifier\n",
    "from sklearn.linear_model import LogisticRegression\n",
    "from sklearn.model_selection import train_test_split\n",
    "from sklearn.metrics import mean_squared_error\n",
    "from sklearn.metrics import accuracy_score\n",
    "from sklearn.model_selection import GridSearchCV\n",
    "from sklearn.neighbors import KNeighborsClassifier\n",
    "from sklearn.metrics import confusion_matrix\n",
    "from sklearn.metrics import roc_auc_score\n",
    "from sklearn.metrics import recall_score\n",
    "from sklearn.metrics import precision_score\n",
    "from sklearn.metrics import f1_score\n",
    "from sklearn.metrics import roc_curve\n",
    "from sklearn.utils import shuffle\n",
    "import seaborn as sns\n",
    "import matplotlib.pyplot as plt\n",
    "import plotly.express as px\n",
    "import plotly.graph_objects as go\n",
    "from sklearn.preprocessing import StandardScaler\n",
    "# Импортируем необходимые библиотеки\n",
    "pd.set_option('display.max_columns', None)\n",
    "pd.options.mode.chained_assignment = None # Чтобы не появлялось предупреждение SettingWithCopy при масштабировании"
   ]
  },
  {
   "cell_type": "markdown",
   "metadata": {},
   "source": [
    "## Получение первичной информации о данных"
   ]
  },
  {
   "cell_type": "code",
   "execution_count": 2,
   "metadata": {},
   "outputs": [
    {
     "name": "stdout",
     "output_type": "stream",
     "text": [
      "<class 'pandas.core.frame.DataFrame'>\n",
      "RangeIndex: 10000 entries, 0 to 9999\n",
      "Data columns (total 14 columns):\n",
      "RowNumber          10000 non-null int64\n",
      "CustomerId         10000 non-null int64\n",
      "Surname            10000 non-null object\n",
      "CreditScore        10000 non-null int64\n",
      "Geography          10000 non-null object\n",
      "Gender             10000 non-null object\n",
      "Age                10000 non-null int64\n",
      "Tenure             9091 non-null float64\n",
      "Balance            10000 non-null float64\n",
      "NumOfProducts      10000 non-null int64\n",
      "HasCrCard          10000 non-null int64\n",
      "IsActiveMember     10000 non-null int64\n",
      "EstimatedSalary    10000 non-null float64\n",
      "Exited             10000 non-null int64\n",
      "dtypes: float64(3), int64(8), object(3)\n",
      "memory usage: 1.1+ MB\n"
     ]
    },
    {
     "data": {
      "text/html": [
       "<div>\n",
       "<style scoped>\n",
       "    .dataframe tbody tr th:only-of-type {\n",
       "        vertical-align: middle;\n",
       "    }\n",
       "\n",
       "    .dataframe tbody tr th {\n",
       "        vertical-align: top;\n",
       "    }\n",
       "\n",
       "    .dataframe thead th {\n",
       "        text-align: right;\n",
       "    }\n",
       "</style>\n",
       "<table border=\"1\" class=\"dataframe\">\n",
       "  <thead>\n",
       "    <tr style=\"text-align: right;\">\n",
       "      <th></th>\n",
       "      <th>RowNumber</th>\n",
       "      <th>CustomerId</th>\n",
       "      <th>Surname</th>\n",
       "      <th>CreditScore</th>\n",
       "      <th>Geography</th>\n",
       "      <th>Gender</th>\n",
       "      <th>Age</th>\n",
       "      <th>Tenure</th>\n",
       "      <th>Balance</th>\n",
       "      <th>NumOfProducts</th>\n",
       "      <th>HasCrCard</th>\n",
       "      <th>IsActiveMember</th>\n",
       "      <th>EstimatedSalary</th>\n",
       "      <th>Exited</th>\n",
       "    </tr>\n",
       "  </thead>\n",
       "  <tbody>\n",
       "    <tr>\n",
       "      <td>0</td>\n",
       "      <td>1</td>\n",
       "      <td>15634602</td>\n",
       "      <td>Hargrave</td>\n",
       "      <td>619</td>\n",
       "      <td>France</td>\n",
       "      <td>Female</td>\n",
       "      <td>42</td>\n",
       "      <td>2.0</td>\n",
       "      <td>0.00</td>\n",
       "      <td>1</td>\n",
       "      <td>1</td>\n",
       "      <td>1</td>\n",
       "      <td>101348.88</td>\n",
       "      <td>1</td>\n",
       "    </tr>\n",
       "    <tr>\n",
       "      <td>1</td>\n",
       "      <td>2</td>\n",
       "      <td>15647311</td>\n",
       "      <td>Hill</td>\n",
       "      <td>608</td>\n",
       "      <td>Spain</td>\n",
       "      <td>Female</td>\n",
       "      <td>41</td>\n",
       "      <td>1.0</td>\n",
       "      <td>83807.86</td>\n",
       "      <td>1</td>\n",
       "      <td>0</td>\n",
       "      <td>1</td>\n",
       "      <td>112542.58</td>\n",
       "      <td>0</td>\n",
       "    </tr>\n",
       "    <tr>\n",
       "      <td>2</td>\n",
       "      <td>3</td>\n",
       "      <td>15619304</td>\n",
       "      <td>Onio</td>\n",
       "      <td>502</td>\n",
       "      <td>France</td>\n",
       "      <td>Female</td>\n",
       "      <td>42</td>\n",
       "      <td>8.0</td>\n",
       "      <td>159660.80</td>\n",
       "      <td>3</td>\n",
       "      <td>1</td>\n",
       "      <td>0</td>\n",
       "      <td>113931.57</td>\n",
       "      <td>1</td>\n",
       "    </tr>\n",
       "    <tr>\n",
       "      <td>3</td>\n",
       "      <td>4</td>\n",
       "      <td>15701354</td>\n",
       "      <td>Boni</td>\n",
       "      <td>699</td>\n",
       "      <td>France</td>\n",
       "      <td>Female</td>\n",
       "      <td>39</td>\n",
       "      <td>1.0</td>\n",
       "      <td>0.00</td>\n",
       "      <td>2</td>\n",
       "      <td>0</td>\n",
       "      <td>0</td>\n",
       "      <td>93826.63</td>\n",
       "      <td>0</td>\n",
       "    </tr>\n",
       "    <tr>\n",
       "      <td>4</td>\n",
       "      <td>5</td>\n",
       "      <td>15737888</td>\n",
       "      <td>Mitchell</td>\n",
       "      <td>850</td>\n",
       "      <td>Spain</td>\n",
       "      <td>Female</td>\n",
       "      <td>43</td>\n",
       "      <td>2.0</td>\n",
       "      <td>125510.82</td>\n",
       "      <td>1</td>\n",
       "      <td>1</td>\n",
       "      <td>1</td>\n",
       "      <td>79084.10</td>\n",
       "      <td>0</td>\n",
       "    </tr>\n",
       "  </tbody>\n",
       "</table>\n",
       "</div>"
      ],
      "text/plain": [
       "   RowNumber  CustomerId   Surname  CreditScore Geography  Gender  Age  \\\n",
       "0          1    15634602  Hargrave          619    France  Female   42   \n",
       "1          2    15647311      Hill          608     Spain  Female   41   \n",
       "2          3    15619304      Onio          502    France  Female   42   \n",
       "3          4    15701354      Boni          699    France  Female   39   \n",
       "4          5    15737888  Mitchell          850     Spain  Female   43   \n",
       "\n",
       "   Tenure    Balance  NumOfProducts  HasCrCard  IsActiveMember  \\\n",
       "0     2.0       0.00              1          1               1   \n",
       "1     1.0   83807.86              1          0               1   \n",
       "2     8.0  159660.80              3          1               0   \n",
       "3     1.0       0.00              2          0               0   \n",
       "4     2.0  125510.82              1          1               1   \n",
       "\n",
       "   EstimatedSalary  Exited  \n",
       "0        101348.88       1  \n",
       "1        112542.58       0  \n",
       "2        113931.57       1  \n",
       "3         93826.63       0  \n",
       "4         79084.10       0  "
      ]
     },
     "execution_count": 2,
     "metadata": {},
     "output_type": "execute_result"
    }
   ],
   "source": [
    "df = pd.read_csv('/datasets/Churn.csv')\n",
    "df.info()\n",
    "df.shape\n",
    "df.head()"
   ]
  },
  {
   "cell_type": "code",
   "execution_count": 3,
   "metadata": {},
   "outputs": [
    {
     "name": "stdout",
     "output_type": "stream",
     "text": [
      "Пропущено 9.1% значений.\n"
     ]
    }
   ],
   "source": [
    "def nan_ratio(column):\n",
    "    return print('Пропущено {:.1%}'.format(df[column].isna().value_counts()[1] / len(df)) + ' значений.')\n",
    "\n",
    "nan_ratio('Tenure')"
   ]
  },
  {
   "cell_type": "markdown",
   "metadata": {},
   "source": [
    "**После получения общей информации видим, что в нашей таблице:**\n",
    "  - 10000 строк\n",
    "  - 14 столбцов с тремя типами данных. Тип данных integer имеет 8 столбцов, float - три, object - тоже 3.\n",
    "\n",
    "\n",
    "**Необходимо провести предобработку данных:**\n",
    "  \n",
    "  - В столбце Tenure пропущено 9.1% значений. Пропущенные значения могут означать то, что клиент не владеет недвижимостью. Поэтому удалять или заменять медианными значениями мы их не будем, а заменим нулями. \n",
    "  - Столбец с фамилиями нам не нужен, каждый человек имеет собственный id, к тому же при дальнейших преобразованиях множество фамилий будет только мешать. Поэтому мы удалим его. \n",
    "  - Необходимо проверить столбец customerid\tна наличие дубликатов\n",
    "  - Также удалим столбец rownumber, он бесполезен, так как номер строки можно увидеть в индексе\n",
    "  - Приведем названия столбцов к нижнему регистру, чтобы было удобнее.\n",
    " "
   ]
  },
  {
   "cell_type": "markdown",
   "metadata": {},
   "source": [
    "## Предобработка данных "
   ]
  },
  {
   "cell_type": "code",
   "execution_count": 4,
   "metadata": {},
   "outputs": [],
   "source": [
    "df.columns = df.columns.str.lower() \n",
    "#Привели к нижнему регистру заголовки.\n",
    "\n",
    "list_for_strlower = ['geography', 'gender']\n",
    "for column in list_for_strlower:\n",
    "    df[column] = df[column].str.lower() \n",
    "# Циклом привели значения столбцов к нижнему регистру "
   ]
  },
  {
   "cell_type": "code",
   "execution_count": 5,
   "metadata": {},
   "outputs": [],
   "source": [
    "df['tenure'] = df['tenure'].fillna(0) \n",
    "\n",
    "df = df.drop('surname', axis=1) \n",
    "df = df.drop('rownumber', axis=1)"
   ]
  },
  {
   "cell_type": "code",
   "execution_count": 6,
   "metadata": {},
   "outputs": [
    {
     "name": "stdout",
     "output_type": "stream",
     "text": [
      "Количество дубликатов в столбце customer id: 0\n"
     ]
    }
   ],
   "source": [
    "print('Количество дубликатов в столбце customer id:', df['customerid'].duplicated().sum())"
   ]
  },
  {
   "cell_type": "code",
   "execution_count": 7,
   "metadata": {},
   "outputs": [],
   "source": [
    "df = df.drop('customerid', axis=1) \n"
   ]
  },
  {
   "cell_type": "markdown",
   "metadata": {},
   "source": [
    "Так как дубликатов нет, можем удалить и столбец id, он нам не пригодится, будет приносить лишь шум для модели. Данные прошли предобработку и готовы к дальнейшим преобразованиям для обучения модели. "
   ]
  },
  {
   "cell_type": "code",
   "execution_count": 8,
   "metadata": {},
   "outputs": [
    {
     "name": "stdout",
     "output_type": "stream",
     "text": [
      "<class 'pandas.core.frame.DataFrame'>\n",
      "RangeIndex: 10000 entries, 0 to 9999\n",
      "Data columns (total 11 columns):\n",
      "creditscore        10000 non-null int64\n",
      "geography          10000 non-null object\n",
      "gender             10000 non-null object\n",
      "age                10000 non-null int64\n",
      "tenure             10000 non-null float64\n",
      "balance            10000 non-null float64\n",
      "numofproducts      10000 non-null int64\n",
      "hascrcard          10000 non-null int64\n",
      "isactivemember     10000 non-null int64\n",
      "estimatedsalary    10000 non-null float64\n",
      "exited             10000 non-null int64\n",
      "dtypes: float64(3), int64(6), object(2)\n",
      "memory usage: 859.5+ KB\n"
     ]
    },
    {
     "data": {
      "text/html": [
       "<div>\n",
       "<style scoped>\n",
       "    .dataframe tbody tr th:only-of-type {\n",
       "        vertical-align: middle;\n",
       "    }\n",
       "\n",
       "    .dataframe tbody tr th {\n",
       "        vertical-align: top;\n",
       "    }\n",
       "\n",
       "    .dataframe thead th {\n",
       "        text-align: right;\n",
       "    }\n",
       "</style>\n",
       "<table border=\"1\" class=\"dataframe\">\n",
       "  <thead>\n",
       "    <tr style=\"text-align: right;\">\n",
       "      <th></th>\n",
       "      <th>creditscore</th>\n",
       "      <th>geography</th>\n",
       "      <th>gender</th>\n",
       "      <th>age</th>\n",
       "      <th>tenure</th>\n",
       "      <th>balance</th>\n",
       "      <th>numofproducts</th>\n",
       "      <th>hascrcard</th>\n",
       "      <th>isactivemember</th>\n",
       "      <th>estimatedsalary</th>\n",
       "      <th>exited</th>\n",
       "    </tr>\n",
       "  </thead>\n",
       "  <tbody>\n",
       "    <tr>\n",
       "      <td>0</td>\n",
       "      <td>619</td>\n",
       "      <td>france</td>\n",
       "      <td>female</td>\n",
       "      <td>42</td>\n",
       "      <td>2.0</td>\n",
       "      <td>0.00</td>\n",
       "      <td>1</td>\n",
       "      <td>1</td>\n",
       "      <td>1</td>\n",
       "      <td>101348.88</td>\n",
       "      <td>1</td>\n",
       "    </tr>\n",
       "    <tr>\n",
       "      <td>1</td>\n",
       "      <td>608</td>\n",
       "      <td>spain</td>\n",
       "      <td>female</td>\n",
       "      <td>41</td>\n",
       "      <td>1.0</td>\n",
       "      <td>83807.86</td>\n",
       "      <td>1</td>\n",
       "      <td>0</td>\n",
       "      <td>1</td>\n",
       "      <td>112542.58</td>\n",
       "      <td>0</td>\n",
       "    </tr>\n",
       "    <tr>\n",
       "      <td>2</td>\n",
       "      <td>502</td>\n",
       "      <td>france</td>\n",
       "      <td>female</td>\n",
       "      <td>42</td>\n",
       "      <td>8.0</td>\n",
       "      <td>159660.80</td>\n",
       "      <td>3</td>\n",
       "      <td>1</td>\n",
       "      <td>0</td>\n",
       "      <td>113931.57</td>\n",
       "      <td>1</td>\n",
       "    </tr>\n",
       "    <tr>\n",
       "      <td>3</td>\n",
       "      <td>699</td>\n",
       "      <td>france</td>\n",
       "      <td>female</td>\n",
       "      <td>39</td>\n",
       "      <td>1.0</td>\n",
       "      <td>0.00</td>\n",
       "      <td>2</td>\n",
       "      <td>0</td>\n",
       "      <td>0</td>\n",
       "      <td>93826.63</td>\n",
       "      <td>0</td>\n",
       "    </tr>\n",
       "    <tr>\n",
       "      <td>4</td>\n",
       "      <td>850</td>\n",
       "      <td>spain</td>\n",
       "      <td>female</td>\n",
       "      <td>43</td>\n",
       "      <td>2.0</td>\n",
       "      <td>125510.82</td>\n",
       "      <td>1</td>\n",
       "      <td>1</td>\n",
       "      <td>1</td>\n",
       "      <td>79084.10</td>\n",
       "      <td>0</td>\n",
       "    </tr>\n",
       "  </tbody>\n",
       "</table>\n",
       "</div>"
      ],
      "text/plain": [
       "   creditscore geography  gender  age  tenure    balance  numofproducts  \\\n",
       "0          619    france  female   42     2.0       0.00              1   \n",
       "1          608     spain  female   41     1.0   83807.86              1   \n",
       "2          502    france  female   42     8.0  159660.80              3   \n",
       "3          699    france  female   39     1.0       0.00              2   \n",
       "4          850     spain  female   43     2.0  125510.82              1   \n",
       "\n",
       "   hascrcard  isactivemember  estimatedsalary  exited  \n",
       "0          1               1        101348.88       1  \n",
       "1          0               1        112542.58       0  \n",
       "2          1               0        113931.57       1  \n",
       "3          0               0         93826.63       0  \n",
       "4          1               1         79084.10       0  "
      ]
     },
     "execution_count": 8,
     "metadata": {},
     "output_type": "execute_result"
    }
   ],
   "source": [
    "df.info()\n",
    "df.head()"
   ]
  },
  {
   "cell_type": "markdown",
   "metadata": {},
   "source": [
    "Посмотрим графики распределения признаков "
   ]
  },
  {
   "cell_type": "code",
   "execution_count": 9,
   "metadata": {
    "scrolled": true
   },
   "outputs": [
    {
     "data": {
      "text/plain": [
       "Text(0.5, 1.0, 'Гистограмма частот для признака Creditscore')"
      ]
     },
     "execution_count": 9,
     "metadata": {},
     "output_type": "execute_result"
    },
    {
     "data": {
      "image/png": "[encoded data removed]",
      "text/plain": [
       "<Figure size 432x288 with 1 Axes>"
      ]
     },
     "metadata": {
      "needs_background": "light"
     },
     "output_type": "display_data"
    }
   ],
   "source": [
    "df['creditscore'].hist()\n",
    "plt.title('Гистограмма частот для признака Creditscore')"
   ]
  },
  {
   "cell_type": "code",
   "execution_count": 10,
   "metadata": {},
   "outputs": [
    {
     "data": {
      "text/plain": [
       "Text(0.5, 1.0, 'Гистограмма частот для признака Balance')"
      ]
     },
     "execution_count": 10,
     "metadata": {},
     "output_type": "execute_result"
    },
    {
     "data": {
      "image/png": "[encoded data removed]",
      "text/plain": [
       "<Figure size 432x288 with 1 Axes>"
      ]
     },
     "metadata": {
      "needs_background": "light"
     },
     "output_type": "display_data"
    }
   ],
   "source": [
    "df['balance'].hist()\n",
    "plt.title('Гистограмма частот для признака Balance')"
   ]
  },
  {
   "cell_type": "code",
   "execution_count": 11,
   "metadata": {},
   "outputs": [
    {
     "data": {
      "text/plain": [
       "Text(0.5, 1.0, 'Гистограмма частот для признака Tenure')"
      ]
     },
     "execution_count": 11,
     "metadata": {},
     "output_type": "execute_result"
    },
    {
     "data": {
      "image/png": "[encoded data removed]",
      "text/plain": [
       "<Figure size 432x288 with 1 Axes>"
      ]
     },
     "metadata": {
      "needs_background": "light"
     },
     "output_type": "display_data"
    }
   ],
   "source": [
    "df['tenure'].hist()\n",
    "plt.title('Гистограмма частот для признака Tenure')"
   ]
  },
  {
   "cell_type": "code",
   "execution_count": 12,
   "metadata": {},
   "outputs": [
    {
     "data": {
      "text/plain": [
       "Text(0.5, 1.0, 'Гистограмма частот для признака Tenure')"
      ]
     },
     "execution_count": 12,
     "metadata": {},
     "output_type": "execute_result"
    },
    {
     "data": {
      "image/png": "[encoded data removed]",
      "text/plain": [
       "<Figure size 432x288 with 1 Axes>"
      ]
     },
     "metadata": {
      "needs_background": "light"
     },
     "output_type": "display_data"
    }
   ],
   "source": [
    "df['age'].hist()\n",
    "plt.title('Гистограмма частот для признака Tenure')"
   ]
  },
  {
   "cell_type": "code",
   "execution_count": 13,
   "metadata": {},
   "outputs": [
    {
     "data": {
      "text/plain": [
       "Text(0.5, 1.0, 'Гистограмма частот для признака Estimatedsalary')"
      ]
     },
     "execution_count": 13,
     "metadata": {},
     "output_type": "execute_result"
    },
    {
     "data": {
      "image/png": "[encoded data removed]",
      "text/plain": [
       "<Figure size 432x288 with 1 Axes>"
      ]
     },
     "metadata": {
      "needs_background": "light"
     },
     "output_type": "display_data"
    }
   ],
   "source": [
    "df['estimatedsalary'].hist()\n",
    "plt.title('Гистограмма частот для признака Estimatedsalary')"
   ]
  },
  {
   "cell_type": "markdown",
   "metadata": {},
   "source": [
    "Построим график мультиколлинеарности для количественных признаков"
   ]
  },
  {
   "cell_type": "code",
   "execution_count": 14,
   "metadata": {},
   "outputs": [
    {
     "data": {
      "text/plain": [
       "['creditscore',\n",
       " 'geography',\n",
       " 'gender',\n",
       " 'age',\n",
       " 'tenure',\n",
       " 'balance',\n",
       " 'numofproducts',\n",
       " 'hascrcard',\n",
       " 'isactivemember',\n",
       " 'estimatedsalary',\n",
       " 'exited']"
      ]
     },
     "execution_count": 14,
     "metadata": {},
     "output_type": "execute_result"
    }
   ],
   "source": [
    "df.columns.to_list()"
   ]
  },
  {
   "cell_type": "code",
   "execution_count": 15,
   "metadata": {},
   "outputs": [],
   "source": [
    "df_for_corr = df.copy()\n",
    "df_for_corr.drop(['geography','gender','tenure','hascrcard','isactivemember','exited'], axis=1, inplace=True)"
   ]
  },
  {
   "cell_type": "code",
   "execution_count": 16,
   "metadata": {},
   "outputs": [
    {
     "data": {
      "image/png": "[encoded data removed]",
      "text/plain": [
       "<Figure size 720x720 with 2 Axes>"
      ]
     },
     "metadata": {
      "needs_background": "light"
     },
     "output_type": "display_data"
    }
   ],
   "source": [
    "fig, ax = plt.subplots()\n",
    "sns.heatmap(df_for_corr.corr(), vmin=-1, vmax=1, center=0, square=True, annot=True, fmt='.1f')\n",
    "fig.set_figwidth(10)\n",
    "fig.set_figheight(10)\n",
    "plt.title('График мультиколлинеарности признаков датасета', fontsize=14)\n",
    "plt.show()"
   ]
  },
  {
   "cell_type": "markdown",
   "metadata": {},
   "source": [
    "После построения корреляционной модели, можно сделать вывод, что нет сильно скоррелированных между собой признаков. Видим, что наблюдается небольшая корреляция между балансом и количеством используемых продуктов. Но коэффициент корреляции не настолько высок, чтобы нужно было удалять данные. Поэтому оставляем всё, как есть. Данные готовы!"
   ]
  },
  {
   "cell_type": "markdown",
   "metadata": {},
   "source": [
    "## Преобразование данных для обучения модели"
   ]
  },
  {
   "cell_type": "markdown",
   "metadata": {},
   "source": [
    "Для дальнейшего обучения модели необходимо преобразовать данные к корректному виду, чтобы не получить ошибки при обучении. Для этого преобразуем категориальные признаки в численные с **помощью техники прямого кодирования.** А чтобы не попасть в ловушку фиктивных признаков применим параметр drop_first"
   ]
  },
  {
   "cell_type": "code",
   "execution_count": 17,
   "metadata": {},
   "outputs": [
    {
     "data": {
      "text/html": [
       "<div>\n",
       "<style scoped>\n",
       "    .dataframe tbody tr th:only-of-type {\n",
       "        vertical-align: middle;\n",
       "    }\n",
       "\n",
       "    .dataframe tbody tr th {\n",
       "        vertical-align: top;\n",
       "    }\n",
       "\n",
       "    .dataframe thead th {\n",
       "        text-align: right;\n",
       "    }\n",
       "</style>\n",
       "<table border=\"1\" class=\"dataframe\">\n",
       "  <thead>\n",
       "    <tr style=\"text-align: right;\">\n",
       "      <th></th>\n",
       "      <th>creditscore</th>\n",
       "      <th>age</th>\n",
       "      <th>tenure</th>\n",
       "      <th>balance</th>\n",
       "      <th>numofproducts</th>\n",
       "      <th>hascrcard</th>\n",
       "      <th>isactivemember</th>\n",
       "      <th>estimatedsalary</th>\n",
       "      <th>exited</th>\n",
       "      <th>geography_germany</th>\n",
       "      <th>geography_spain</th>\n",
       "      <th>gender_male</th>\n",
       "    </tr>\n",
       "  </thead>\n",
       "  <tbody>\n",
       "    <tr>\n",
       "      <td>0</td>\n",
       "      <td>619</td>\n",
       "      <td>42</td>\n",
       "      <td>2.0</td>\n",
       "      <td>0.00</td>\n",
       "      <td>1</td>\n",
       "      <td>1</td>\n",
       "      <td>1</td>\n",
       "      <td>101348.88</td>\n",
       "      <td>1</td>\n",
       "      <td>0</td>\n",
       "      <td>0</td>\n",
       "      <td>0</td>\n",
       "    </tr>\n",
       "    <tr>\n",
       "      <td>1</td>\n",
       "      <td>608</td>\n",
       "      <td>41</td>\n",
       "      <td>1.0</td>\n",
       "      <td>83807.86</td>\n",
       "      <td>1</td>\n",
       "      <td>0</td>\n",
       "      <td>1</td>\n",
       "      <td>112542.58</td>\n",
       "      <td>0</td>\n",
       "      <td>0</td>\n",
       "      <td>1</td>\n",
       "      <td>0</td>\n",
       "    </tr>\n",
       "    <tr>\n",
       "      <td>2</td>\n",
       "      <td>502</td>\n",
       "      <td>42</td>\n",
       "      <td>8.0</td>\n",
       "      <td>159660.80</td>\n",
       "      <td>3</td>\n",
       "      <td>1</td>\n",
       "      <td>0</td>\n",
       "      <td>113931.57</td>\n",
       "      <td>1</td>\n",
       "      <td>0</td>\n",
       "      <td>0</td>\n",
       "      <td>0</td>\n",
       "    </tr>\n",
       "    <tr>\n",
       "      <td>3</td>\n",
       "      <td>699</td>\n",
       "      <td>39</td>\n",
       "      <td>1.0</td>\n",
       "      <td>0.00</td>\n",
       "      <td>2</td>\n",
       "      <td>0</td>\n",
       "      <td>0</td>\n",
       "      <td>93826.63</td>\n",
       "      <td>0</td>\n",
       "      <td>0</td>\n",
       "      <td>0</td>\n",
       "      <td>0</td>\n",
       "    </tr>\n",
       "    <tr>\n",
       "      <td>4</td>\n",
       "      <td>850</td>\n",
       "      <td>43</td>\n",
       "      <td>2.0</td>\n",
       "      <td>125510.82</td>\n",
       "      <td>1</td>\n",
       "      <td>1</td>\n",
       "      <td>1</td>\n",
       "      <td>79084.10</td>\n",
       "      <td>0</td>\n",
       "      <td>0</td>\n",
       "      <td>1</td>\n",
       "      <td>0</td>\n",
       "    </tr>\n",
       "    <tr>\n",
       "      <td>...</td>\n",
       "      <td>...</td>\n",
       "      <td>...</td>\n",
       "      <td>...</td>\n",
       "      <td>...</td>\n",
       "      <td>...</td>\n",
       "      <td>...</td>\n",
       "      <td>...</td>\n",
       "      <td>...</td>\n",
       "      <td>...</td>\n",
       "      <td>...</td>\n",
       "      <td>...</td>\n",
       "      <td>...</td>\n",
       "    </tr>\n",
       "    <tr>\n",
       "      <td>9995</td>\n",
       "      <td>771</td>\n",
       "      <td>39</td>\n",
       "      <td>5.0</td>\n",
       "      <td>0.00</td>\n",
       "      <td>2</td>\n",
       "      <td>1</td>\n",
       "      <td>0</td>\n",
       "      <td>96270.64</td>\n",
       "      <td>0</td>\n",
       "      <td>0</td>\n",
       "      <td>0</td>\n",
       "      <td>1</td>\n",
       "    </tr>\n",
       "    <tr>\n",
       "      <td>9996</td>\n",
       "      <td>516</td>\n",
       "      <td>35</td>\n",
       "      <td>10.0</td>\n",
       "      <td>57369.61</td>\n",
       "      <td>1</td>\n",
       "      <td>1</td>\n",
       "      <td>1</td>\n",
       "      <td>101699.77</td>\n",
       "      <td>0</td>\n",
       "      <td>0</td>\n",
       "      <td>0</td>\n",
       "      <td>1</td>\n",
       "    </tr>\n",
       "    <tr>\n",
       "      <td>9997</td>\n",
       "      <td>709</td>\n",
       "      <td>36</td>\n",
       "      <td>7.0</td>\n",
       "      <td>0.00</td>\n",
       "      <td>1</td>\n",
       "      <td>0</td>\n",
       "      <td>1</td>\n",
       "      <td>42085.58</td>\n",
       "      <td>1</td>\n",
       "      <td>0</td>\n",
       "      <td>0</td>\n",
       "      <td>0</td>\n",
       "    </tr>\n",
       "    <tr>\n",
       "      <td>9998</td>\n",
       "      <td>772</td>\n",
       "      <td>42</td>\n",
       "      <td>3.0</td>\n",
       "      <td>75075.31</td>\n",
       "      <td>2</td>\n",
       "      <td>1</td>\n",
       "      <td>0</td>\n",
       "      <td>92888.52</td>\n",
       "      <td>1</td>\n",
       "      <td>1</td>\n",
       "      <td>0</td>\n",
       "      <td>1</td>\n",
       "    </tr>\n",
       "    <tr>\n",
       "      <td>9999</td>\n",
       "      <td>792</td>\n",
       "      <td>28</td>\n",
       "      <td>0.0</td>\n",
       "      <td>130142.79</td>\n",
       "      <td>1</td>\n",
       "      <td>1</td>\n",
       "      <td>0</td>\n",
       "      <td>38190.78</td>\n",
       "      <td>0</td>\n",
       "      <td>0</td>\n",
       "      <td>0</td>\n",
       "      <td>0</td>\n",
       "    </tr>\n",
       "  </tbody>\n",
       "</table>\n",
       "<p>10000 rows × 12 columns</p>\n",
       "</div>"
      ],
      "text/plain": [
       "      creditscore  age  tenure    balance  numofproducts  hascrcard  \\\n",
       "0             619   42     2.0       0.00              1          1   \n",
       "1             608   41     1.0   83807.86              1          0   \n",
       "2             502   42     8.0  159660.80              3          1   \n",
       "3             699   39     1.0       0.00              2          0   \n",
       "4             850   43     2.0  125510.82              1          1   \n",
       "...           ...  ...     ...        ...            ...        ...   \n",
       "9995          771   39     5.0       0.00              2          1   \n",
       "9996          516   35    10.0   57369.61              1          1   \n",
       "9997          709   36     7.0       0.00              1          0   \n",
       "9998          772   42     3.0   75075.31              2          1   \n",
       "9999          792   28     0.0  130142.79              1          1   \n",
       "\n",
       "      isactivemember  estimatedsalary  exited  geography_germany  \\\n",
       "0                  1        101348.88       1                  0   \n",
       "1                  1        112542.58       0                  0   \n",
       "2                  0        113931.57       1                  0   \n",
       "3                  0         93826.63       0                  0   \n",
       "4                  1         79084.10       0                  0   \n",
       "...              ...              ...     ...                ...   \n",
       "9995               0         96270.64       0                  0   \n",
       "9996               1        101699.77       0                  0   \n",
       "9997               1         42085.58       1                  0   \n",
       "9998               0         92888.52       1                  1   \n",
       "9999               0         38190.78       0                  0   \n",
       "\n",
       "      geography_spain  gender_male  \n",
       "0                   0            0  \n",
       "1                   1            0  \n",
       "2                   0            0  \n",
       "3                   0            0  \n",
       "4                   1            0  \n",
       "...               ...          ...  \n",
       "9995                0            1  \n",
       "9996                0            1  \n",
       "9997                0            0  \n",
       "9998                0            1  \n",
       "9999                0            0  \n",
       "\n",
       "[10000 rows x 12 columns]"
      ]
     },
     "execution_count": 17,
     "metadata": {},
     "output_type": "execute_result"
    }
   ],
   "source": [
    "df_ohe = pd.get_dummies(df, drop_first=True) \n",
    "df_ohe"
   ]
  },
  {
   "cell_type": "markdown",
   "metadata": {},
   "source": [
    "## Разделение данных на выборки и выделение признаков"
   ]
  },
  {
   "cell_type": "markdown",
   "metadata": {},
   "source": [
    "Теперь разобьём данные на три выборки (тренировочная, тестовая и валидационная) в отношении 3:1:1. Также после разделения выделим признаки и целевой признак. Целевой признак - это столбец Exited, это категориальный признак, поэтому в дальнейшем мы будем использовать **метод классификации**.  "
   ]
  },
  {
   "cell_type": "code",
   "execution_count": 18,
   "metadata": {},
   "outputs": [],
   "source": [
    "features = df_ohe.drop('exited', axis=1)\n",
    "target = df_ohe['exited'] "
   ]
  },
  {
   "cell_type": "code",
   "execution_count": 19,
   "metadata": {},
   "outputs": [],
   "source": [
    "features_train, features_1, target_train, target_1 = train_test_split(features, target, train_size=0.6, random_state=12345) \n"
   ]
  },
  {
   "cell_type": "code",
   "execution_count": 20,
   "metadata": {},
   "outputs": [],
   "source": [
    "features_valid, features_test, target_valid, target_test = train_test_split(features_1, target_1, test_size=0.5, random_state=12345) "
   ]
  },
  {
   "cell_type": "markdown",
   "metadata": {},
   "source": [
    "С качественными значениями разобрались, теперь перейдем к количественным. У всех числовых столбцов разный масштаб. Чтобы привести их к корректному виду, необходимо их стандартизировать с помощью StandardScaler. "
   ]
  },
  {
   "cell_type": "markdown",
   "metadata": {},
   "source": [
    "## Стандартизация числовых данных"
   ]
  },
  {
   "cell_type": "code",
   "execution_count": 21,
   "metadata": {},
   "outputs": [
    {
     "name": "stdout",
     "output_type": "stream",
     "text": [
      "      creditscore       age    tenure   balance  numofproducts  hascrcard  \\\n",
      "7479    -0.886751 -0.373192  1.104696  1.232271      -0.891560          1   \n",
      "3411     0.608663 -0.183385  1.104696  0.600563      -0.891560          0   \n",
      "6027     2.052152  0.480939 -0.503694  1.027098       0.830152          0   \n",
      "1247    -1.457915 -1.417129  0.461340 -1.233163       0.830152          1   \n",
      "3716     0.130961 -1.132419 -0.825373  1.140475      -0.891560          0   \n",
      "\n",
      "      isactivemember  estimatedsalary  geography_germany  geography_spain  \\\n",
      "7479               0        -0.187705                  0                1   \n",
      "3411               0        -0.333945                  0                0   \n",
      "6027               1         1.503095                  1                0   \n",
      "1247               0        -1.071061                  0                0   \n",
      "3716               0         1.524268                  1                0   \n",
      "\n",
      "      gender_male  \n",
      "7479            1  \n",
      "3411            0  \n",
      "6027            1  \n",
      "1247            1  \n",
      "3716            0  \n"
     ]
    }
   ],
   "source": [
    "numeric = ['creditscore', 'age', 'tenure', 'balance', 'numofproducts', 'estimatedsalary']\n",
    "scaler = StandardScaler()\n",
    "scaler.fit(features_train[numeric]) \n",
    "features_train[numeric] = scaler.transform(features_train[numeric])\n",
    "\n",
    "features_valid[numeric] = scaler.transform(features_valid[numeric]) \n",
    "features_test[numeric] = scaler.transform(features_test[numeric])\n",
    "\n",
    "print(features_train.head())"
   ]
  },
  {
   "cell_type": "markdown",
   "metadata": {},
   "source": [
    "# Исследование задачи"
   ]
  },
  {
   "cell_type": "markdown",
   "metadata": {},
   "source": [
    "## Подсчет метрики accuracy для различных моделей"
   ]
  },
  {
   "cell_type": "markdown",
   "metadata": {},
   "source": [
    "### Дерево решений"
   ]
  },
  {
   "cell_type": "code",
   "execution_count": 22,
   "metadata": {},
   "outputs": [
    {
     "name": "stdout",
     "output_type": "stream",
     "text": [
      "Метрика accuracy дерева решений равна 0.7865\n"
     ]
    }
   ],
   "source": [
    "model_DTC = DecisionTreeClassifier(random_state=12345)\n",
    "model_DTC.fit(features_train, target_train) \n",
    "\n",
    "predicted_valid_DTC = model_DTC.predict(features_valid)\n",
    "\n",
    "accuracy_valid_DTC = accuracy_score(target_valid, predicted_valid_DTC)\n",
    "print('Метрика accuracy дерева решений равна', accuracy_valid_DTC)\n"
   ]
  },
  {
   "cell_type": "markdown",
   "metadata": {},
   "source": [
    "### Случайный лес"
   ]
  },
  {
   "cell_type": "code",
   "execution_count": 23,
   "metadata": {},
   "outputs": [
    {
     "name": "stdout",
     "output_type": "stream",
     "text": [
      "Метрика accuracy случайного леса равна 0.858\n"
     ]
    }
   ],
   "source": [
    "model_RFC = RandomForestClassifier(random_state=12345, \n",
    "                                   n_estimators = 100)\n",
    "model_RFC.fit(features_train, target_train) \n",
    "\n",
    "predicted_valid_RFC = model_RFC.predict(features_valid)\n",
    "\n",
    "accuracy_valid_RFC = accuracy_score(target_valid, predicted_valid_RFC)\n",
    "print('Метрика accuracy случайного леса равна', accuracy_valid_RFC)"
   ]
  },
  {
   "cell_type": "markdown",
   "metadata": {},
   "source": [
    "### Логистическая регрессия"
   ]
  },
  {
   "cell_type": "code",
   "execution_count": 24,
   "metadata": {},
   "outputs": [
    {
     "name": "stdout",
     "output_type": "stream",
     "text": [
      "Метрика accuracy логистической регрессии равна 0.8025\n"
     ]
    }
   ],
   "source": [
    "model_LR = LogisticRegression(solver = 'liblinear')\n",
    "model_LR.fit(features_train, target_train) \n",
    "predicted_valid_LR = model_LR.predict(features_valid)\n",
    "\n",
    "accuracy_valid_LR = accuracy_score(target_valid, predicted_valid_LR)\n",
    "print('Метрика accuracy логистической регрессии равна', accuracy_valid_LR)"
   ]
  },
  {
   "cell_type": "markdown",
   "metadata": {},
   "source": [
    "В зависимости от модели доля правильных ответов составляет 78-86%. Исследуем целевой признак.\n",
    "Чтобы оценить адекватность модели, проверим, как часто в целевом признаке встречается класс «1» или «0». Количество уникальных значений подсчитывается методом value_counts(). Он группирует строго одинаковые величины."
   ]
  },
  {
   "cell_type": "code",
   "execution_count": 25,
   "metadata": {},
   "outputs": [
    {
     "data": {
      "text/plain": [
       "0    0.800667\n",
       "1    0.199333\n",
       "Name: exited, dtype: float64"
      ]
     },
     "execution_count": 25,
     "metadata": {},
     "output_type": "execute_result"
    }
   ],
   "source": [
    "target_train.value_counts(normalize=True)"
   ]
  },
  {
   "cell_type": "code",
   "execution_count": 26,
   "metadata": {},
   "outputs": [
    {
     "data": {
      "text/plain": [
       "0    0.791\n",
       "1    0.209\n",
       "Name: exited, dtype: float64"
      ]
     },
     "execution_count": 26,
     "metadata": {},
     "output_type": "execute_result"
    }
   ],
   "source": [
    "target_valid.value_counts(normalize=True)"
   ]
  },
  {
   "cell_type": "markdown",
   "metadata": {},
   "source": [
    "Наблюдается дисбаланс классов, полученные результаты далеки от соотношения 1:1. Так как доля ячеек со значение \"0\" равна 80%, мы можем предположить, что наша модtль будет чаще всего предсказывать только один вариант ответа (0). "
   ]
  },
  {
   "cell_type": "code",
   "execution_count": 27,
   "metadata": {},
   "outputs": [
    {
     "name": "stdout",
     "output_type": "stream",
     "text": [
      "0.791\n"
     ]
    }
   ],
   "source": [
    "target_pred_constant = pd.Series(0, index=target_valid.index)\n",
    "print(accuracy_score(target_valid, target_pred_constant)) "
   ]
  },
  {
   "cell_type": "markdown",
   "metadata": {},
   "source": [
    "Проверку на адекватность модель не прошла. Это связано с дисбалансом классов."
   ]
  },
  {
   "cell_type": "markdown",
   "metadata": {},
   "source": [
    "## Составление матрицы ошибок и расчет метрик"
   ]
  },
  {
   "cell_type": "markdown",
   "metadata": {},
   "source": [
    "При дисбалансе классов метрика аccuracy не подходит, необходима новая метрика. Спачала необходимо изучить матрицу ошибок."
   ]
  },
  {
   "cell_type": "markdown",
   "metadata": {},
   "source": [
    "### Матрица ошибок для дерева решений"
   ]
  },
  {
   "cell_type": "code",
   "execution_count": 28,
   "metadata": {},
   "outputs": [
    {
     "name": "stdout",
     "output_type": "stream",
     "text": [
      "[[1376  206]\n",
      " [ 221  197]]\n"
     ]
    }
   ],
   "source": [
    "print(confusion_matrix(target_valid, predicted_valid_DTC))"
   ]
  },
  {
   "cell_type": "markdown",
   "metadata": {},
   "source": [
    "Видим, что модель довольно часто ошибается. К тому же, она склонна видеть отрицательные ответы там, где и нет. Необходимо просчитать метрики, чтобы лучше разобраться. Для этого напишем функцию.  "
   ]
  },
  {
   "cell_type": "code",
   "execution_count": 29,
   "metadata": {},
   "outputs": [],
   "source": [
    "def metrics(target, prediction):\n",
    "    print('Полнота:', recall_score(target, prediction))\n",
    "    print('Точность:', precision_score(target, prediction))\n",
    "    print('F1 мера:', f1_score(target, prediction))\n",
    "    print('ROC AUC мера:', roc_auc_score(target, prediction))"
   ]
  },
  {
   "cell_type": "code",
   "execution_count": 30,
   "metadata": {},
   "outputs": [
    {
     "name": "stdout",
     "output_type": "stream",
     "text": [
      "Полнота: 0.47129186602870815\n",
      "Точность: 0.48883374689826303\n",
      "F1 мера: 0.47990255785627284\n",
      "ROC AUC мера: 0.6705384741015855\n"
     ]
    }
   ],
   "source": [
    "metrics(target_valid, predicted_valid_DTC)"
   ]
  },
  {
   "cell_type": "markdown",
   "metadata": {},
   "source": [
    "### Матрица ошибок для случайного леса"
   ]
  },
  {
   "cell_type": "code",
   "execution_count": 31,
   "metadata": {},
   "outputs": [
    {
     "name": "stdout",
     "output_type": "stream",
     "text": [
      "[[1521   61]\n",
      " [ 223  195]]\n"
     ]
    }
   ],
   "source": [
    "print(confusion_matrix(target_valid, predicted_valid_RFC))"
   ]
  },
  {
   "cell_type": "code",
   "execution_count": 32,
   "metadata": {},
   "outputs": [
    {
     "name": "stdout",
     "output_type": "stream",
     "text": [
      "Полнота: 0.4665071770334928\n",
      "Точность: 0.76171875\n",
      "F1 мера: 0.5786350148367952\n",
      "ROC AUC мера: 0.7139741953435479\n"
     ]
    }
   ],
   "source": [
    "metrics(target_valid, predicted_valid_RFC)"
   ]
  },
  {
   "cell_type": "markdown",
   "metadata": {},
   "source": [
    "### Матрица ошибок для логистической регрессии "
   ]
  },
  {
   "cell_type": "code",
   "execution_count": 33,
   "metadata": {},
   "outputs": [
    {
     "name": "stdout",
     "output_type": "stream",
     "text": [
      "[[1506   76]\n",
      " [ 319   99]]\n"
     ]
    }
   ],
   "source": [
    "print(confusion_matrix(target_valid, predicted_valid_LR))"
   ]
  },
  {
   "cell_type": "code",
   "execution_count": 34,
   "metadata": {},
   "outputs": [
    {
     "name": "stdout",
     "output_type": "stream",
     "text": [
      "ROC AUC мера: 0.7586317967081824\n"
     ]
    }
   ],
   "source": [
    "probabilities_one_valid_LR = model_LR.predict_proba(features_valid)[:, 1]\n",
    "print('ROC AUC мера:', roc_auc_score(target_valid, probabilities_one_valid_LR))"
   ]
  },
  {
   "cell_type": "markdown",
   "metadata": {},
   "source": [
    "Посмотрим как сильно наша модель будет отличаться от случайной, если сбалансировать классы. \n",
    "По горизонтали нанесём долю ложноположительных ответов (FPR), а по вертикали — долю истинно положительных ответов (TPR). Переберём значения порога логистической регрессии и проведём ROC-кривую. "
   ]
  },
  {
   "cell_type": "code",
   "execution_count": 35,
   "metadata": {
    "scrolled": true
   },
   "outputs": [
    {
     "data": {
      "image/png": "[encoded data removed]",
      "text/plain": [
       "<Figure size 432x288 with 1 Axes>"
      ]
     },
     "metadata": {
      "needs_background": "light"
     },
     "output_type": "display_data"
    },
    {
     "name": "stdout",
     "output_type": "stream",
     "text": [
      "0.7635798063138539\n"
     ]
    }
   ],
   "source": [
    "model_LR_balanced = LogisticRegression(random_state=12345, solver='liblinear', class_weight='balanced')\n",
    "model_LR_balanced.fit(features_train, target_train) \n",
    "\n",
    "probabilities_valid_LR_balanced = model_LR_balanced.predict_proba(features_valid)\n",
    "probabilities_one_valid_LR_balanced = probabilities_valid_LR_balanced[:, 1]\n",
    "fpr, tpr, thresholds = roc_curve(target_valid, probabilities_one_valid_LR_balanced)  \n",
    "plt.figure()\n",
    "plt.plot([0, 1], [0, 1], linestyle='--')\n",
    "plt.plot(fpr, tpr)\n",
    "plt.xlim([0.0, 1.0])\n",
    "plt.ylim([0.0, 1.0])\n",
    "plt.xlabel(\"False Positive Rate\")\n",
    "plt.ylabel(\"True Positive Rate\")\n",
    "plt.title(\"ROC-кривая\")\n",
    "plt.show()\n",
    "print(roc_auc_score(target_valid, probabilities_one_valid_LR_balanced))"
   ]
  },
  {
   "cell_type": "markdown",
   "metadata": {},
   "source": [
    "Проанализировав три модели, можно сделать **`следующие выводы`**:\n",
    "1. В данных наблюдается явный дисбаланс классов, поэтому метрика accuracy нам совершенно не подходит. \n",
    "2. Все три модели довольно часто ошибаются, а также являются пессимистичными. Видим, что модели довольно часто ошибаются. К тому же, они склонны видеть отрицательные ответы там, где и нет (склоняются к ложноотрицательным ответам - ошибка второго рода).\n",
    "3. В связи с дисбаласом классов полнота как у модели случайного леса, так и дерева решений составляет (округлив до десятых) 0,5. Значение не близко к единицы, следовательно, модель ищет положительные объекты не так хорошо, как могла бы. Поэтому будем перепроверять и улучшать модель в следующих щагах проекта. \n",
    "4. Точность модели дерева решений составляет всего 0,49, а случайного леса - 0,76. Однако, метрика F1 ни у одной из моделей не близка к 1, что означает низкое качество моделей. \n",
    "5. ROC AUC мера логистической регрессии лучше случайно модели после балансировки классов параметром class_weight='balanced', однако значение не близко к 1, качество низкое.\n",
    "\n",
    "**`Следовательно, необходимо преобразовать данные, чтобы дисбаланс не учитывался, а модель обучалась и предсказывала корректно. Это мы сделаем следующим шагом.`**"
   ]
  },
  {
   "cell_type": "markdown",
   "metadata": {},
   "source": [
    "# Борьба с дисбалансом"
   ]
  },
  {
   "cell_type": "markdown",
   "metadata": {},
   "source": [
    "## Увеличение выборки"
   ]
  },
  {
   "cell_type": "markdown",
   "metadata": {},
   "source": [
    "Для того, чтобы избавиться от дисбаланса увеличим выборку в 4 раза. Сначала скопируем несколько раз положительные объекты, затем создадим новую обучающую выборку и перемешаем выборку."
   ]
  },
  {
   "cell_type": "code",
   "execution_count": 36,
   "metadata": {},
   "outputs": [
    {
     "name": "stdout",
     "output_type": "stream",
     "text": [
      "0    0.501043\n",
      "1    0.498957\n",
      "Name: exited, dtype: float64\n",
      "(9588,)\n"
     ]
    }
   ],
   "source": [
    "def upsample(features, target, repeat):\n",
    "    features_zeros = features[target == 0]\n",
    "    features_ones = features[target == 1]\n",
    "    target_zeros = target[target == 0]\n",
    "    target_ones = target[target == 1]\n",
    "\n",
    "    features_upsampled = pd.concat([features_zeros] + [features_ones] * repeat)\n",
    "    target_upsampled = pd.concat([target_zeros] + [target_ones] * repeat) \n",
    "\n",
    "    \n",
    "    features_upsampled, target_upsampled = shuffle(\n",
    "        features_upsampled, target_upsampled, random_state=12345) \n",
    "    \n",
    "    return features_upsampled, target_upsampled\n",
    "\n",
    "features_upsampled, target_upsampled = upsample(features_train, target_train, 4)\n",
    "\n",
    "print(target_upsampled.value_counts(normalize=True))\n",
    "print(target_upsampled.shape)\n"
   ]
  },
  {
   "cell_type": "markdown",
   "metadata": {},
   "source": [
    "Теперь проверим показатели качества на увеличинной выборке "
   ]
  },
  {
   "cell_type": "markdown",
   "metadata": {},
   "source": [
    "### Дерево решений"
   ]
  },
  {
   "cell_type": "code",
   "execution_count": 37,
   "metadata": {},
   "outputs": [
    {
     "name": "stdout",
     "output_type": "stream",
     "text": [
      "Меры DTC до увеличения выборки\n",
      "\n",
      "Полнота: 0.47129186602870815\n",
      "Точность: 0.48883374689826303\n",
      "F1 мера: 0.47990255785627284\n",
      "ROC AUC мера: 0.6705384741015855\n",
      "\n",
      "Меры DTC после увеличения выборки\n",
      "\n",
      "Полнота: 0.4449760765550239\n",
      "Точность: 0.4708860759493671\n",
      "F1 мера: 0.4575645756457565\n",
      "ROC AUC мера: 0.6564324124873728\n"
     ]
    }
   ],
   "source": [
    "model_DTC_upsampled = DecisionTreeClassifier(random_state=12345)\n",
    "model_DTC_upsampled.fit(features_upsampled, target_upsampled)\n",
    "\n",
    "predicted_valid_DTC_upsampled = model_DTC_upsampled.predict(features_valid) \n",
    "print('Меры DTC до увеличения выборки') \n",
    "print('')\n",
    "metrics(target_valid, predicted_valid_DTC)\n",
    "print('')\n",
    "print('Меры DTC после увеличения выборки')\n",
    "print('')\n",
    "metrics(target_valid, predicted_valid_DTC_upsampled)"
   ]
  },
  {
   "cell_type": "markdown",
   "metadata": {},
   "source": [
    "Модель дерева решения показала незначительный рост только польноты, что не помогло улучшить модель.  "
   ]
  },
  {
   "cell_type": "markdown",
   "metadata": {},
   "source": [
    "### Случайный лес"
   ]
  },
  {
   "cell_type": "code",
   "execution_count": 38,
   "metadata": {},
   "outputs": [
    {
     "name": "stdout",
     "output_type": "stream",
     "text": [
      "Меры RFC до увеличения выборки\n",
      "\n",
      "Полнота: 0.4665071770334928\n",
      "Точность: 0.76171875\n",
      "F1 мера: 0.5786350148367952\n",
      "ROC AUC мера: 0.7139741953435479\n",
      "\n",
      "Меры RFC после увеличения выборки\n",
      "\n",
      "Полнота: 0.5382775119617225\n",
      "Точность: 0.6756756756756757\n",
      "F1 мера: 0.5992010652463382\n",
      "ROC AUC мера: 0.7350047483955262\n"
     ]
    }
   ],
   "source": [
    "model_RFC_upsampled = RandomForestClassifier(random_state=12345, \n",
    "                                   n_estimators = 100)\n",
    "model_RFC_upsampled.fit(features_upsampled, target_upsampled) \n",
    "\n",
    "predicted_valid_RFC_upsampled = model_RFC_upsampled.predict(features_valid) \n",
    "print('Меры RFC до увеличения выборки') \n",
    "print('')\n",
    "metrics(target_valid, predicted_valid_RFC)\n",
    "print('')\n",
    "print('Меры RFC после увеличения выборки')\n",
    "print('')\n",
    "metrics(target_valid, predicted_valid_RFC_upsampled)"
   ]
  },
  {
   "cell_type": "markdown",
   "metadata": {},
   "source": [
    "Случайный лес показывает результаты лучше, выросли все показатели, кроме точности.  "
   ]
  },
  {
   "cell_type": "markdown",
   "metadata": {},
   "source": [
    "### Логистическая регрессия"
   ]
  },
  {
   "cell_type": "code",
   "execution_count": 39,
   "metadata": {},
   "outputs": [
    {
     "name": "stdout",
     "output_type": "stream",
     "text": [
      "Меры LR до увеличения выборки\n",
      "\n",
      "Полнота: 0.23684210526315788\n",
      "Точность: 0.5657142857142857\n",
      "F1 мера: 0.33389544688026984\n",
      "ROC AUC мера: 0.5944008250715284\n",
      "\n",
      "Меры LR после увеличения выборки\n",
      "\n",
      "Полнота: 0.6842105263157895\n",
      "Точность: 0.3803191489361702\n",
      "F1 мера: 0.4888888888888888\n",
      "ROC AUC мера: 0.6948233415396898\n"
     ]
    }
   ],
   "source": [
    "model_LR_upsampled = LogisticRegression(solver = 'liblinear')\n",
    "model_LR_upsampled.fit(features_upsampled, target_upsampled) \n",
    "\n",
    "predicted_valid_LR_upsampled = model_LR_upsampled.predict(features_valid) \n",
    "print('Меры LR до увеличения выборки') \n",
    "print('')\n",
    "metrics(target_valid, predicted_valid_LR)\n",
    "print('')\n",
    "print('Меры LR после увеличения выборки')\n",
    "print('')\n",
    "metrics(target_valid, predicted_valid_LR_upsampled)"
   ]
  },
  {
   "cell_type": "markdown",
   "metadata": {},
   "source": [
    "\n",
    "\n",
    "Полнота увеличилась больше, чем уменьшилась точность, поэтому f1 мера также возросла. Но показатели все же низкие. \n",
    "**На данный момент случайный лес показал лучшие результаты**\n",
    "\n",
    "Попробуем еще уменьшить выборку, чтобы добиться лучших значений f1 меры."
   ]
  },
  {
   "cell_type": "markdown",
   "metadata": {},
   "source": [
    "## Уменьшение выборки"
   ]
  },
  {
   "cell_type": "code",
   "execution_count": 40,
   "metadata": {},
   "outputs": [
    {
     "name": "stdout",
     "output_type": "stream",
     "text": [
      "0    0.501043\n",
      "1    0.498957\n",
      "Name: exited, dtype: float64\n",
      "(2397,)\n"
     ]
    }
   ],
   "source": [
    "def downsample(features, target, fraction):\n",
    "    features_zeros = features[target == 0]\n",
    "    features_ones = features[target == 1]\n",
    "    target_zeros = target[target == 0]\n",
    "    target_ones = target[target == 1]\n",
    "\n",
    "    features_downsampled = pd.concat(\n",
    "        [features_zeros.sample(frac=fraction, random_state=12345)] + [features_ones])\n",
    "    target_downsampled = pd.concat(\n",
    "        [target_zeros.sample(frac=fraction, random_state=12345)] + [target_ones])\n",
    " \n",
    "    features_downsampled, target_downsampled = shuffle(\n",
    "        features_downsampled, target_downsampled, random_state=12345) \n",
    "    \n",
    "    return features_downsampled, target_downsampled\n",
    "\n",
    "features_downsampled, target_downsampled = downsample(features_train, target_train, 0.25)\n",
    "\n",
    "print(target_downsampled.value_counts(normalize=True))\n",
    "print(target_downsampled.shape)\n"
   ]
  },
  {
   "cell_type": "markdown",
   "metadata": {},
   "source": [
    "### Дерево решений"
   ]
  },
  {
   "cell_type": "code",
   "execution_count": 41,
   "metadata": {},
   "outputs": [
    {
     "name": "stdout",
     "output_type": "stream",
     "text": [
      "Меры DTC до увеличения выборки\n",
      "\n",
      "Полнота: 0.47129186602870815\n",
      "Точность: 0.48883374689826303\n",
      "F1 мера: 0.47990255785627284\n",
      "ROC AUC мера: 0.6705384741015855\n",
      "\n",
      "Меры DTC после увеличения выборки\n",
      "\n",
      "Полнота: 0.6913875598086124\n",
      "Точность: 0.3772845953002611\n",
      "F1 мера: 0.48817567567567566\n",
      "ROC AUC мера: 0.6949352464024099\n"
     ]
    }
   ],
   "source": [
    "model_DTC_downsampled = DecisionTreeClassifier(random_state=12345)\n",
    "model_DTC_downsampled.fit(features_downsampled, target_downsampled) # Обучили модель на тренировочной выборке\n",
    "\n",
    "predicted_valid_DTC_downsampled = model_DTC_downsampled.predict(features_valid) # Получили прогноз на валидационной выборке\n",
    "print('Меры DTC до увеличения выборки') \n",
    "print('')\n",
    "metrics(target_valid, predicted_valid_DTC)\n",
    "print('')\n",
    "print('Меры DTC после увеличения выборки')\n",
    "print('')\n",
    "metrics(target_valid, predicted_valid_DTC_downsampled)"
   ]
  },
  {
   "cell_type": "markdown",
   "metadata": {},
   "source": [
    "Значительное уменьшение точности обеспечило низкий рост меры f1 при высоком росте полноты, поэтому нельзя назвать данную модель качественной. "
   ]
  },
  {
   "cell_type": "markdown",
   "metadata": {},
   "source": [
    "### Случайный лес"
   ]
  },
  {
   "cell_type": "code",
   "execution_count": 42,
   "metadata": {},
   "outputs": [
    {
     "name": "stdout",
     "output_type": "stream",
     "text": [
      "Меры RFC до увеличения выборки\n",
      "\n",
      "Полнота: 0.4665071770334928\n",
      "Точность: 0.76171875\n",
      "F1 мера: 0.5786350148367952\n",
      "ROC AUC мера: 0.7139741953435479\n",
      "\n",
      "Меры RFC после увеличения выборки\n",
      "\n",
      "Полнота: 0.7344497607655502\n",
      "Точность: 0.4865293185419968\n",
      "F1 мера: 0.5853193517635844\n",
      "ROC AUC мера: 0.76482285762677\n"
     ]
    }
   ],
   "source": [
    "model_RFC_downsampled = RandomForestClassifier(random_state=12345, \n",
    "                                   n_estimators = 100)\n",
    "model_RFC_downsampled.fit(features_downsampled, target_downsampled) # Обучили модель на тренировочной выборке\n",
    "\n",
    "predicted_valid_RFC_downsampled = model_RFC_downsampled.predict(features_valid) # Получили прогноз на валидационной выборке\n",
    "print('Меры RFC до увеличения выборки') \n",
    "print('')\n",
    "metrics(target_valid, predicted_valid_RFC)\n",
    "print('')\n",
    "print('Меры RFC после увеличения выборки')\n",
    "print('')\n",
    "metrics(target_valid, predicted_valid_RFC_downsampled)"
   ]
  },
  {
   "cell_type": "markdown",
   "metadata": {},
   "source": [
    "Все показатели, кроме точности возросли. Точность уменьшилась значительно. Можно отметить, что при увеличенной выборке f1 на валидационной выборке было выше на 0,1. "
   ]
  },
  {
   "cell_type": "markdown",
   "metadata": {},
   "source": [
    "### Логистическая регрессия"
   ]
  },
  {
   "cell_type": "code",
   "execution_count": 43,
   "metadata": {},
   "outputs": [
    {
     "name": "stdout",
     "output_type": "stream",
     "text": [
      "Меры LR до увеличения выборки\n",
      "\n",
      "Полнота: 0.23684210526315788\n",
      "Точность: 0.5657142857142857\n",
      "F1 мера: 0.33389544688026984\n",
      "ROC AUC мера: 0.5944008250715284\n",
      "\n",
      "Меры LR после увеличения выборки\n",
      "\n",
      "Полнота: 0.6818181818181818\n",
      "Точность: 0.3815261044176707\n",
      "F1 мера: 0.4892703862660944\n",
      "ROC AUC мера: 0.6948913917940466\n"
     ]
    }
   ],
   "source": [
    "model_LR_downsampled = LogisticRegression(solver = 'liblinear')\n",
    "model_LR_downsampled.fit(features_downsampled, target_downsampled) # Обучили модель на тренировочной выборке\n",
    "\n",
    "predicted_valid_LR_downsampled = model_LR_downsampled.predict(features_valid) # Получили прогноз на валидационной выборке\n",
    "print('Меры LR до увеличения выборки') \n",
    "print('')\n",
    "metrics(target_valid, predicted_valid_LR)\n",
    "print('')\n",
    "print('Меры LR после увеличения выборки')\n",
    "print('')\n",
    "metrics(target_valid, predicted_valid_LR_downsampled)"
   ]
  },
  {
   "cell_type": "markdown",
   "metadata": {},
   "source": [
    "<div class=\"alert alert-block alert-info\">\n",
    "\n",
    "**`ВЫВОД:`** как при уменьшении, так и при увеличении показатели на валидационной выборке всех моделей увеличиваются, за исключением точности. Однако, на увеличенной выборке значения лучше, чем на уменьшенной. Также можно выделить модель случайного леса с лучшими показателям. Мера `F1` на увеличенной валидационной выборке модели случайного леса составляет почти 0,6. \n",
    "\n",
    "**Поэтому далее мы будем улучшать модель случайного леса на увеличенной выборке.**\n",
    "\n",
    "*Приступим к улучшению модели* "
   ]
  },
  {
   "cell_type": "markdown",
   "metadata": {},
   "source": [
    "## Улучшение модели"
   ]
  },
  {
   "cell_type": "code",
   "execution_count": 44,
   "metadata": {},
   "outputs": [
    {
     "data": {
      "text/plain": [
       "{'criterion': 'gini', 'max_depth': 10, 'n_estimators': 85}"
      ]
     },
     "execution_count": 44,
     "metadata": {},
     "output_type": "execute_result"
    }
   ],
   "source": [
    "gbp = RandomForestClassifier()\n",
    "\n",
    "\n",
    "parametrs = {'n_estimators': range(80, 100, 5), \n",
    "             'max_depth': range(1, 11, 1), \n",
    "             'criterion': ['gini', 'entropy']}\n",
    "            \n",
    "grid = GridSearchCV(gbp, parametrs, cv=5)\n",
    "grid.fit(features_upsampled, target_upsampled)\n",
    "grid.best_params_"
   ]
  },
  {
   "cell_type": "markdown",
   "metadata": {},
   "source": [
    "Подобрали новые параметры, теперь проверим нашу модель на тестовой выборке. "
   ]
  },
  {
   "cell_type": "markdown",
   "metadata": {},
   "source": [
    "# Тестирование модели"
   ]
  },
  {
   "cell_type": "code",
   "execution_count": 45,
   "metadata": {},
   "outputs": [
    {
     "name": "stdout",
     "output_type": "stream",
     "text": [
      "Валидационная выборка\n",
      "\n",
      "Меры RFC после увеличения выборки\n",
      "\n",
      "Полнота: 0.5382775119617225\n",
      "Точность: 0.6756756756756757\n",
      "F1 мера: 0.5992010652463382\n",
      "ROC AUC мера: 0.7350047483955262\n",
      "Меры RFC после увеличения выборки и подбора параметров\n",
      "\n",
      "Полнота: 0.6794258373205742\n",
      "Точность: 0.5668662674650699\n",
      "F1 мера: 0.618063112078346\n",
      "ROC AUC мера: 0.771128847863827\n"
     ]
    }
   ],
   "source": [
    "model_RFC_final = RandomForestClassifier(random_state=12345, \n",
    "                                   n_estimators = 80, max_depth=10, criterion='gini')\n",
    "model_RFC_final.fit(features_upsampled, target_upsampled)\n",
    "\n",
    "predicted_valid_final = model_RFC_final.predict(features_valid) \n",
    "print('Валидационная выборка')\n",
    "print('')\n",
    "print('Меры RFC после увеличения выборки')\n",
    "print('')\n",
    "metrics(target_valid, predicted_valid_RFC_upsampled)\n",
    "print('Меры RFC после увеличения выборки и подбора параметров')\n",
    "print('')\n",
    "metrics(target_valid, predicted_valid_final)\n"
   ]
  },
  {
   "cell_type": "markdown",
   "metadata": {},
   "source": [
    "Посмотрели, что все показатели на валидационной выборке увеличились после подбора лучших параметров, теперь проверим на тестовой выборке. "
   ]
  },
  {
   "cell_type": "code",
   "execution_count": 46,
   "metadata": {},
   "outputs": [
    {
     "name": "stdout",
     "output_type": "stream",
     "text": [
      "\n",
      "Тестовая выборка:\n",
      "\n",
      "Полнота: 0.6619385342789598\n",
      "Точность: 0.56\n",
      "F1 мера: 0.6067172264355363\n",
      "ROC AUC мера: 0.7612165721489917\n",
      "None\n"
     ]
    }
   ],
   "source": [
    "test_predictions_forest = model_RFC_final.predict(features_test) \n",
    "print('')\n",
    "print(\"Тестовая выборка:\") \n",
    "print('')\n",
    "print(metrics(target_test, test_predictions_forest)) "
   ]
  },
  {
   "cell_type": "markdown",
   "metadata": {},
   "source": [
    "F1 = 0.6, мы довели метрику до максимального значения и превысили целевое 0.59. "
   ]
  },
  {
   "cell_type": "markdown",
   "metadata": {},
   "source": [
    "# Вывод "
   ]
  },
  {
   "cell_type": "markdown",
   "metadata": {},
   "source": [
    "<div class=\"alert alert-block alert-info\">\n",
    "\n",
    "\n",
    "**`В ходе проекта были выполнены следующие действия:`**\n",
    "1. **Данные были обработаны:** \n",
    "   - проведена провека на дубликаты, \n",
    "   - заменены пропуски, \n",
    "   - все значения приведены к нижнему регистру,\n",
    "   - удалены ненужные столбцы, которые могли помешать обучению модели.\n",
    "2. **Выделены признаки и целевой принак, а также выборка была разделена на три части в отношении 3:1:1** \n",
    "3. **Признаки были обработаны для приведения данных в удобный формат для дальнейшего обучения модели**\n",
    "   - Категориальные признаки были приведены в численные методом прямого кодирования (OHE).\n",
    "   - Численные признаки были масштабированы путем стандартизации \n",
    "4. **Подсчитана метрика accuracy для каждой из модели и проверка моделей на адекватность что показало то, что:**\n",
    "   - Наблюдается диспропоруия в данных, а именно отношение нулей к единицам составляет 4:1\n",
    "5. **Составлена матрица ошибок для наглядного представления результатов вычислений метрик точности и полноты, из чего следует, что:**\n",
    "   - Модели пессимистичны, они часто видят отрицательные ответы там, где их на самом деле нет.\n",
    "6. **Подсчитаны метрики полноты, точности, f1 b auc-roc и выявлено, что**\n",
    "   - У всех моделей низкое качество и их необходимо улучшить\n",
    "7. **Построена ROC кривая для логистической регрессии:**\n",
    "   - Показатель составил 0.76, он больше случайной модели, но не дотягивает до единицы, следовательно, модель не обладает высоким качеством \n",
    "8. **Для исправления дисбаланса выборка была увеличена и уменьшена в 4 раза:**\n",
    "   - Увеличенная выборка показала лучшие результаты метрик на всехх моделях \n",
    "   - Самой качественной моделью оказалась `модель случайного леса`, поэтому мы продолжили работать с ней \n",
    "9. **С помощью RandomForestClassifier() подобрали оптимальные гиперпараметры и запустили модель с их использованием, что позволило увеличить качество модели**\n",
    "10. **Произведена проверка на тестовой выборке и достигнуты необходимые значения меры F1** \n",
    "\n",
    "Нам удалось увеличить метрику f1 модели слуйчайного леса с 0.57 до 0.61 на валидационной выборке и достигнуть значения 0.6 на тестовой выборке. \n",
    "Также мера auc-roc увелчилась с 0.71 до 0.77 на валидационной выборке, что является показателем увеличения качества. На тестовой выборке показатель составил 0.76.\n",
    "Полнота составила 0,66. Следовательно модель с вероятностью 66% предсказывает уход клиентов из банка.\n",
    "Однако, показатель точности не очень высокий, составляет всего 0,56, то есть только в 56% модель может верно предсказать уход клиентов. \n",
    "\n",
    "**Данная модель поможем маркетологам прогнозировать возможный уход клиентов из банка. Так у них будет возможность принять соответствующие меры для сохранения текущих клиентов.** \n",
    "   "
   ]
  }
 ],
 "metadata": {
  "kernelspec": {
   "display_name": "Python 3",
   "language": "python",
   "name": "python3"
  },
  "language_info": {
   "codemirror_mode": {
    "name": "ipython",
    "version": 3
   },
   "file_extension": ".py",
   "mimetype": "text/x-python",
   "name": "python",
   "nbconvert_exporter": "python",
   "pygments_lexer": "ipython3",
   "version": "3.7.8"
  },
  "toc": {
   "base_numbering": 1,
   "nav_menu": {
    "height": "279px",
    "width": "391px"
   },
   "number_sections": true,
   "sideBar": true,
   "skip_h1_title": true,
   "title_cell": "Содержание",
   "title_sidebar": "Содержание",
   "toc_cell": true,
   "toc_position": {
    "height": "calc(100% - 180px)",
    "left": "10px",
    "top": "150px",
    "width": "366.594px"
   },
   "toc_section_display": true,
   "toc_window_display": true
  }
 },
 "nbformat": 4,
 "nbformat_minor": 2
}
