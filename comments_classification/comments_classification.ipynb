{
 "cells": [
  {
   "cell_type": "markdown",
   "metadata": {
    "toc": true
   },
   "source": [
    "<h1>Содержание<span class=\"tocSkip\"></span></h1>\n",
    "<div class=\"toc\"><ul class=\"toc-item\"><li><span><a href=\"#Импорт-необходимых-библиотек-и-данных\" data-toc-modified-id=\"Импорт-необходимых-библиотек-и-данных-1\"><span class=\"toc-item-num\">1&nbsp;&nbsp;</span>Импорт необходимых библиотек и данных</a></span></li><li><span><a href=\"#Загрузка-датасета\" data-toc-modified-id=\"Загрузка-датасета-2\"><span class=\"toc-item-num\">2&nbsp;&nbsp;</span>Загрузка датасета</a></span></li><li><span><a href=\"#Лемматиация-данных\" data-toc-modified-id=\"Лемматиация-данных-3\"><span class=\"toc-item-num\">3&nbsp;&nbsp;</span>Лемматиация данных</a></span></li><li><span><a href=\"#Обучение\" data-toc-modified-id=\"Обучение-4\"><span class=\"toc-item-num\">4&nbsp;&nbsp;</span>Обучение</a></span><ul class=\"toc-item\"><li><span><a href=\"#Логистическая-регрессия\" data-toc-modified-id=\"Логистическая-регрессия-4.1\"><span class=\"toc-item-num\">4.1&nbsp;&nbsp;</span>Логистическая регрессия</a></span></li><li><span><a href=\"#Дерево-решений\" data-toc-modified-id=\"Дерево-решений-4.2\"><span class=\"toc-item-num\">4.2&nbsp;&nbsp;</span>Дерево решений</a></span></li><li><span><a href=\"#Случайный-лес\" data-toc-modified-id=\"Случайный-лес-4.3\"><span class=\"toc-item-num\">4.3&nbsp;&nbsp;</span>Случайный лес</a></span></li><li><span><a href=\"#Модель-LGBM\" data-toc-modified-id=\"Модель-LGBM-4.4\"><span class=\"toc-item-num\">4.4&nbsp;&nbsp;</span>Модель LGBM</a></span></li></ul></li><li><span><a href=\"#Выводы\" data-toc-modified-id=\"Выводы-5\"><span class=\"toc-item-num\">5&nbsp;&nbsp;</span>Выводы</a></span><ul class=\"toc-item\"><li><span><a href=\"#Сводная-таблица\" data-toc-modified-id=\"Сводная-таблица-5.1\"><span class=\"toc-item-num\">5.1&nbsp;&nbsp;</span>Сводная таблица</a></span></li></ul></li><li><span><a href=\"#Чек-лист-проверки\" data-toc-modified-id=\"Чек-лист-проверки-6\"><span class=\"toc-item-num\">6&nbsp;&nbsp;</span>Чек-лист проверки</a></span></li></ul></div>"
   ]
  },
  {
   "cell_type": "markdown",
   "metadata": {},
   "source": [
    "# Цель и задачи"
   ]
  },
  {
   "cell_type": "markdown",
   "metadata": {},
   "source": [
    "Интернет-магазин «Викишоп» запускает новый сервис. Теперь пользователи могут редактировать и дополнять описания товаров, как в вики-сообществах. То есть клиенты предлагают свои правки и комментируют изменения других. Магазину нужен инструмент, который будет искать токсичные комментарии и отправлять их на модерацию. \n",
    "\n",
    "**Цель:**\n",
    "- Обучить модель классифицировать комментарии на позитивные и негативные. \n",
    "\n",
    "**Задачи**\n",
    "\n",
    "1. Загрузить и подготовить данные.\n",
    "2. Обучить разные модели. \n",
    "3. Сделать выводы.\n"
   ]
  },
  {
   "cell_type": "markdown",
   "metadata": {},
   "source": [
    "# Подготовка"
   ]
  },
  {
   "cell_type": "markdown",
   "metadata": {},
   "source": [
    "## Импорт необходимых библиотек и данных"
   ]
  },
  {
   "cell_type": "code",
   "execution_count": 1,
   "metadata": {
    "scrolled": true
   },
   "outputs": [
    {
     "name": "stderr",
     "output_type": "stream",
     "text": [
      "[nltk_data] Downloading package wordnet to /home/jovyan/nltk_data...\n",
      "[nltk_data]   Package wordnet is already up-to-date!\n",
      "[nltk_data] Downloading package stopwords to /home/jovyan/nltk_data...\n",
      "[nltk_data]   Package stopwords is already up-to-date!\n"
     ]
    }
   ],
   "source": [
    "import pandas as pd\n",
    "import nltk\n",
    "from nltk.stem import WordNetLemmatizer\n",
    "from nltk.corpus import stopwords as nltk_stopwords\n",
    "from sklearn.feature_extraction.text import CountVectorizer\n",
    "from sklearn.feature_extraction.text import TfidfVectorizer\n",
    "from nltk.corpus import stopwords \n",
    "import re\n",
    "from sklearn.model_selection import train_test_split\n",
    "from sklearn.metrics import f1_score\n",
    "import numpy as np\n",
    "import pickle\n",
    "nltk.download('wordnet')\n",
    "nltk.download('stopwords')\n",
    "\n",
    "from sklearn.tree import DecisionTreeClassifier\n",
    "from sklearn.ensemble import RandomForestClassifier\n",
    "from sklearn.linear_model import LogisticRegression\n",
    "from lightgbm import LGBMClassifier"
   ]
  },
  {
   "cell_type": "markdown",
   "metadata": {},
   "source": [
    "## Загрузка датасета"
   ]
  },
  {
   "cell_type": "code",
   "execution_count": 2,
   "metadata": {
    "scrolled": false
   },
   "outputs": [],
   "source": [
    "try:\n",
    "    df = pd.read_csv('C:/Users/Oblre/Downloads/toxic_comments.csv')\n",
    "except:\n",
    "    df = pd.read_csv('https://code.s3.yandex.net/datasets/toxic_comments.csv')"
   ]
  },
  {
   "cell_type": "markdown",
   "metadata": {},
   "source": [
    "## Лемматиация данных"
   ]
  },
  {
   "cell_type": "markdown",
   "metadata": {},
   "source": [
    "Для удобства обработки данных создана функция для лемматизации столбца, состоящего из текста. Там же избавились от лишних символов с помощью модуля `re (regular expression)` и от лишних пробелов с помощью `split` и `join`."
   ]
  },
  {
   "cell_type": "code",
   "execution_count": 3,
   "metadata": {},
   "outputs": [],
   "source": [
    "m = WordNetLemmatizer()\n",
    "def lemmatize(X):\n",
    "    x = []\n",
    "    for row in X:\n",
    "        lemm_list = m.lemmatize(row)\n",
    "        lemm_text = \"\".join(lemm_list)\n",
    "        clean = re.sub(r'[^a-zA-zа-яА-яёЁ ]', ' ', lemm_text)\n",
    "        joined = ' '.join(clean.split())\n",
    "        x.append(joined)\n",
    "    return x"
   ]
  },
  {
   "cell_type": "code",
   "execution_count": 4,
   "metadata": {
    "scrolled": true
   },
   "outputs": [
    {
     "data": {
      "text/plain": [
       "0    0.898321\n",
       "1    0.101679\n",
       "Name: toxic, dtype: float64"
      ]
     },
     "execution_count": 4,
     "metadata": {},
     "output_type": "execute_result"
    }
   ],
   "source": [
    "df['toxic'].value_counts(normalize=True)"
   ]
  },
  {
   "cell_type": "markdown",
   "metadata": {},
   "source": [
    "Проверили датасет на корректность вышеперечисленных операций."
   ]
  },
  {
   "cell_type": "code",
   "execution_count": 5,
   "metadata": {
    "scrolled": false
   },
   "outputs": [
    {
     "data": {
      "text/html": [
       "<div>\n",
       "<style scoped>\n",
       "    .dataframe tbody tr th:only-of-type {\n",
       "        vertical-align: middle;\n",
       "    }\n",
       "\n",
       "    .dataframe tbody tr th {\n",
       "        vertical-align: top;\n",
       "    }\n",
       "\n",
       "    .dataframe thead th {\n",
       "        text-align: right;\n",
       "    }\n",
       "</style>\n",
       "<table border=\"1\" class=\"dataframe\">\n",
       "  <thead>\n",
       "    <tr style=\"text-align: right;\">\n",
       "      <th></th>\n",
       "      <th>text</th>\n",
       "      <th>toxic</th>\n",
       "    </tr>\n",
       "  </thead>\n",
       "  <tbody>\n",
       "    <tr>\n",
       "      <td>0</td>\n",
       "      <td>Explanation Why the edits made under my userna...</td>\n",
       "      <td>0</td>\n",
       "    </tr>\n",
       "    <tr>\n",
       "      <td>1</td>\n",
       "      <td>D aww He matches this background colour I m se...</td>\n",
       "      <td>0</td>\n",
       "    </tr>\n",
       "    <tr>\n",
       "      <td>2</td>\n",
       "      <td>Hey man I m really not trying to edit war It s...</td>\n",
       "      <td>0</td>\n",
       "    </tr>\n",
       "    <tr>\n",
       "      <td>3</td>\n",
       "      <td>More I can t make any real suggestions on impr...</td>\n",
       "      <td>0</td>\n",
       "    </tr>\n",
       "    <tr>\n",
       "      <td>4</td>\n",
       "      <td>You sir are my hero Any chance you remember wh...</td>\n",
       "      <td>0</td>\n",
       "    </tr>\n",
       "    <tr>\n",
       "      <td>...</td>\n",
       "      <td>...</td>\n",
       "      <td>...</td>\n",
       "    </tr>\n",
       "    <tr>\n",
       "      <td>159566</td>\n",
       "      <td>And for the second time of asking when your vi...</td>\n",
       "      <td>0</td>\n",
       "    </tr>\n",
       "    <tr>\n",
       "      <td>159567</td>\n",
       "      <td>You should be ashamed of yourself That is a ho...</td>\n",
       "      <td>0</td>\n",
       "    </tr>\n",
       "    <tr>\n",
       "      <td>159568</td>\n",
       "      <td>Spitzer Umm theres no actual article for prost...</td>\n",
       "      <td>0</td>\n",
       "    </tr>\n",
       "    <tr>\n",
       "      <td>159569</td>\n",
       "      <td>And it looks like it was actually you who put ...</td>\n",
       "      <td>0</td>\n",
       "    </tr>\n",
       "    <tr>\n",
       "      <td>159570</td>\n",
       "      <td>And I really don t think you understand I came...</td>\n",
       "      <td>0</td>\n",
       "    </tr>\n",
       "  </tbody>\n",
       "</table>\n",
       "<p>159571 rows × 2 columns</p>\n",
       "</div>"
      ],
      "text/plain": [
       "                                                     text  toxic\n",
       "0       Explanation Why the edits made under my userna...      0\n",
       "1       D aww He matches this background colour I m se...      0\n",
       "2       Hey man I m really not trying to edit war It s...      0\n",
       "3       More I can t make any real suggestions on impr...      0\n",
       "4       You sir are my hero Any chance you remember wh...      0\n",
       "...                                                   ...    ...\n",
       "159566  And for the second time of asking when your vi...      0\n",
       "159567  You should be ashamed of yourself That is a ho...      0\n",
       "159568  Spitzer Umm theres no actual article for prost...      0\n",
       "159569  And it looks like it was actually you who put ...      0\n",
       "159570  And I really don t think you understand I came...      0\n",
       "\n",
       "[159571 rows x 2 columns]"
      ]
     },
     "execution_count": 5,
     "metadata": {},
     "output_type": "execute_result"
    }
   ],
   "source": [
    "df['text'] = lemmatize(df['text'])\n",
    "df"
   ]
  },
  {
   "cell_type": "markdown",
   "metadata": {},
   "source": [
    "Разделили данные на тренировочную(75%) и тестовую(25%) выборки.  "
   ]
  },
  {
   "cell_type": "code",
   "execution_count": 6,
   "metadata": {
    "scrolled": true
   },
   "outputs": [],
   "source": [
    "X = df.drop('toxic', axis=1) \n",
    "y = df['toxic'] \n",
    "x_train, x_test, y_train, y_test = train_test_split(X, y, test_size=0.25, random_state=0)"
   ]
  },
  {
   "cell_type": "markdown",
   "metadata": {},
   "source": [
    "С помощью функции `TfidfVectorizer` создали признаки (векторы величин `TF-IDF`) из твитов для дальнейшего обучения. Далее, с помощью функции fit обучили только тренировочную выборку (чтобы тестирвоание было честным), а потом трансформировали тренирвоочную и тестовую выборки.   "
   ]
  },
  {
   "cell_type": "code",
   "execution_count": 7,
   "metadata": {},
   "outputs": [],
   "source": [
    "stopwords = set(stopwords.words('english', 'russian'))\n",
    "count_tf_idf = TfidfVectorizer(stop_words=stopwords)\n",
    "\n",
    "x_train = x_train['text'].values.astype('U')\n",
    "x_test = x_test['text'].values.astype('U')\n",
    "tf_idf = count_tf_idf.fit(x_train)\n",
    "x_train = count_tf_idf.transform(x_train)\n",
    "x_test = count_tf_idf.transform(x_test)"
   ]
  },
  {
   "cell_type": "markdown",
   "metadata": {},
   "source": [
    "## Обучение"
   ]
  },
  {
   "cell_type": "markdown",
   "metadata": {},
   "source": [
    "### Логистическая регрессия "
   ]
  },
  {
   "cell_type": "code",
   "execution_count": 8,
   "metadata": {
    "scrolled": false
   },
   "outputs": [
    {
     "name": "stderr",
     "output_type": "stream",
     "text": [
      "/opt/conda/lib/python3.7/site-packages/sklearn/linear_model/logistic.py:432: FutureWarning: Default solver will be changed to 'lbfgs' in 0.22. Specify a solver to silence this warning.\n",
      "  FutureWarning)\n"
     ]
    },
    {
     "name": "stdout",
     "output_type": "stream",
     "text": [
      "Показатель F1_score для логистической регрессии: 0.73\n",
      "Показатель F1_score для логистической регрессии (при average=weighted): 0.95\n"
     ]
    }
   ],
   "source": [
    "model_lr = LogisticRegression().fit(x_train, y_train)\n",
    "pred_test_lr = model_lr.predict(x_test)\n",
    "f1_score_lr_1 = f1_score(y_test, pred_test_lr)\n",
    "f1_score_lr_2 = f1_score(y_test, pred_test_lr, average='weighted')\n",
    "print('Показатель F1_score для логистической регрессии: {:.2f}'.format(f1_score_lr_1))\n",
    "print('Показатель F1_score для логистической регрессии (при average=weighted): {:.2f}'.format(f1_score_lr_2))"
   ]
  },
  {
   "cell_type": "markdown",
   "metadata": {},
   "source": [
    "<div class=\"alert alert-block alert-info\">\n",
    "\n",
    "Лучший результат метрики с параметром (average=weighted) `F1_score = 0.95`. Результат улучшается засчет параметра (average=weighted), с параметрами по умолчанию `F1_score = 0.73`. \n",
    "\n",
    "Данный результат удовлетворяет исходным условиям, где F1_score = 0.75, но при парамтере (average=weighted)."
   ]
  },
  {
   "cell_type": "markdown",
   "metadata": {},
   "source": [
    "### Дерево решений"
   ]
  },
  {
   "cell_type": "code",
   "execution_count": 9,
   "metadata": {
    "scrolled": true
   },
   "outputs": [
    {
     "name": "stdout",
     "output_type": "stream",
     "text": [
      "Лучшая модель со след. параметрами: \n",
      " DecisionTreeClassifier(class_weight=None, criterion='gini', max_depth=140,\n",
      "                       max_features=None, max_leaf_nodes=None,\n",
      "                       min_impurity_decrease=0.0, min_impurity_split=None,\n",
      "                       min_samples_leaf=1, min_samples_split=2,\n",
      "                       min_weight_fraction_leaf=0.0, presort=False,\n",
      "                       random_state=0, splitter='best')\n",
      "Показатель F1_score для дерева решений: 0.73\n"
     ]
    }
   ],
   "source": [
    "best_model_dt = None\n",
    "best_f1_score_DT = 0\n",
    "\n",
    "for depth in range(100, 151, 10):\n",
    "    model_DT = DecisionTreeClassifier(random_state=0, max_depth=depth)\n",
    "    model_DT.fit(x_train, y_train)\n",
    "    pred_test_DT = model_DT.predict(x_test)\n",
    "    f1_score_DT = f1_score(y_test, pred_test_DT)\n",
    "    if f1_score_DT > best_f1_score_DT:\n",
    "        best_model_dt = model_DT\n",
    "        best_f1_score_DT = f1_score_DT\n",
    "            \n",
    "print('Лучшая модель со след. параметрами:', '\\n', best_model_dt)\n",
    "print('Показатель F1_score для дерева решений: {:.2f}'.format(best_f1_score_DT))"
   ]
  },
  {
   "cell_type": "code",
   "execution_count": 10,
   "metadata": {},
   "outputs": [
    {
     "name": "stdout",
     "output_type": "stream",
     "text": [
      "Лучшая модель со след. параметрами: \n",
      " DecisionTreeClassifier(class_weight=None, criterion='gini', max_depth=100,\n",
      "                       max_features=None, max_leaf_nodes=None,\n",
      "                       min_impurity_decrease=0.0, min_impurity_split=None,\n",
      "                       min_samples_leaf=1, min_samples_split=2,\n",
      "                       min_weight_fraction_leaf=0.0, presort=False,\n",
      "                       random_state=0, splitter='best')\n",
      "Показатель F1_score для дерева решений: 0.95\n"
     ]
    }
   ],
   "source": [
    "best_model_dt_1 = None\n",
    "best_f1_score_DT_1 = 0\n",
    "\n",
    "for depth in range(100, 151, 10):\n",
    "    model_DT = DecisionTreeClassifier(random_state=0, max_depth=depth)\n",
    "    model_DT.fit(x_train, y_train)\n",
    "    pred_test_DT = model_DT.predict(x_test)\n",
    "    f1_score_DT = f1_score(y_test, pred_test_DT, average='weighted')\n",
    "    if f1_score_DT > best_f1_score_DT_1:\n",
    "        best_model_dt_1 = model_DT\n",
    "        best_f1_score_DT_1 = f1_score_DT\n",
    "            \n",
    "print('Лучшая модель со след. параметрами:', '\\n', best_model_dt_1)\n",
    "print('Показатель F1_score для дерева решений: {:.2f}'.format(best_f1_score_DT_1))"
   ]
  },
  {
   "cell_type": "markdown",
   "metadata": {},
   "source": [
    "<div class=\"alert alert-block alert-info\">\n",
    "\n",
    "Лучший гиперпараметр для данной модели: `max_depth = 100` с результатом метрики `F1_score = 0.95` при введение параметра average.\n",
    "\n",
    "Данный результат не удовлетворяет исходным условиям, где F1_score = 0.75."
   ]
  },
  {
   "cell_type": "markdown",
   "metadata": {},
   "source": [
    "### Случайный лес"
   ]
  },
  {
   "cell_type": "markdown",
   "metadata": {},
   "source": [
    "Модель с подбором гиперпараметров:"
   ]
  },
  {
   "cell_type": "code",
   "execution_count": 11,
   "metadata": {
    "scrolled": true
   },
   "outputs": [
    {
     "name": "stderr",
     "output_type": "stream",
     "text": [
      "/opt/conda/lib/python3.7/site-packages/sklearn/metrics/classification.py:1437: UndefinedMetricWarning: F-score is ill-defined and being set to 0.0 due to no predicted samples.\n",
      "  'precision', 'predicted', average, warn_for)\n",
      "/opt/conda/lib/python3.7/site-packages/sklearn/metrics/classification.py:1437: UndefinedMetricWarning: F-score is ill-defined and being set to 0.0 due to no predicted samples.\n",
      "  'precision', 'predicted', average, warn_for)\n",
      "/opt/conda/lib/python3.7/site-packages/sklearn/metrics/classification.py:1437: UndefinedMetricWarning: F-score is ill-defined and being set to 0.0 due to no predicted samples.\n",
      "  'precision', 'predicted', average, warn_for)\n",
      "/opt/conda/lib/python3.7/site-packages/sklearn/metrics/classification.py:1437: UndefinedMetricWarning: F-score is ill-defined and being set to 0.0 due to no predicted samples.\n",
      "  'precision', 'predicted', average, warn_for)\n",
      "/opt/conda/lib/python3.7/site-packages/sklearn/metrics/classification.py:1437: UndefinedMetricWarning: F-score is ill-defined and being set to 0.0 due to no predicted samples.\n",
      "  'precision', 'predicted', average, warn_for)\n",
      "/opt/conda/lib/python3.7/site-packages/sklearn/metrics/classification.py:1437: UndefinedMetricWarning: F-score is ill-defined and being set to 0.0 due to no predicted samples.\n",
      "  'precision', 'predicted', average, warn_for)\n",
      "/opt/conda/lib/python3.7/site-packages/sklearn/metrics/classification.py:1437: UndefinedMetricWarning: F-score is ill-defined and being set to 0.0 due to no predicted samples.\n",
      "  'precision', 'predicted', average, warn_for)\n"
     ]
    },
    {
     "name": "stdout",
     "output_type": "stream",
     "text": [
      "Лучшая модель со след. параметрами: \n",
      " RandomForestClassifier(bootstrap=True, class_weight=None, criterion='gini',\n",
      "                       max_depth=91, max_features='auto', max_leaf_nodes=None,\n",
      "                       min_impurity_decrease=0.0, min_impurity_split=None,\n",
      "                       min_samples_leaf=1, min_samples_split=2,\n",
      "                       min_weight_fraction_leaf=0.0, n_estimators=4,\n",
      "                       n_jobs=None, oob_score=False, random_state=0, verbose=0,\n",
      "                       warm_start=False)\n",
      "Показатель F1_score для случайного леса (с подбором гиперпараметров): 0.39\n"
     ]
    }
   ],
   "source": [
    "best_model_rf = None\n",
    "best_f1_score_RF = 0\n",
    "\n",
    "for est in range(3, 10, 1):\n",
    "    for depth in range(1, 100, 10):\n",
    "        model_RF = RandomForestClassifier(random_state=0, n_estimators=est, max_depth=depth)\n",
    "        model_RF.fit(x_train, y_train)\n",
    "        pred_test_RF = model_RF.predict(x_test)\n",
    "        f1_score_RF = f1_score(y_test, pred_test_RF)\n",
    "        if f1_score_RF > best_f1_score_RF:\n",
    "            best_model_rf = model_RF\n",
    "            best_f1_score_RF = f1_score_RF\n",
    "\n",
    "print('Лучшая модель со след. параметрами:', '\\n', best_model_rf)\n",
    "print('Показатель F1_score для случайного леса (с подбором гиперпараметров): {:.2f}'.format(best_f1_score_RF))"
   ]
  },
  {
   "cell_type": "markdown",
   "metadata": {},
   "source": [
    "Модель без подбора гиперпараметров:"
   ]
  },
  {
   "cell_type": "code",
   "execution_count": 12,
   "metadata": {
    "scrolled": true
   },
   "outputs": [
    {
     "name": "stderr",
     "output_type": "stream",
     "text": [
      "/opt/conda/lib/python3.7/site-packages/sklearn/ensemble/forest.py:245: FutureWarning: The default value of n_estimators will change from 10 in version 0.20 to 100 in 0.22.\n",
      "  \"10 in version 0.20 to 100 in 0.22.\", FutureWarning)\n"
     ]
    },
    {
     "name": "stdout",
     "output_type": "stream",
     "text": [
      "Показатель F1_score для случайного леса (без подбора гиперпараметров): 0.67\n",
      "Показатель F1_score для случайного леса (без подбора гиперпараметров, но с average=weighted): 0.94\n"
     ]
    }
   ],
   "source": [
    "model_RF_1 = RandomForestClassifier(random_state=0)\n",
    "model_RF_1.fit(x_train, y_train)\n",
    "pred_test_RF_1 = model_RF_1.predict(x_test)\n",
    "f1_score_RF_1 = f1_score(y_test, pred_test_RF_1)\n",
    "print('Показатель F1_score для случайного леса (без подбора гиперпараметров): {:.2f}'.format(f1_score_RF_1))\n",
    "f1_score_RF_2 = f1_score(y_test, pred_test_RF_1, average='weighted')\n",
    "print('Показатель F1_score для случайного леса (без подбора гиперпараметров, но с average=weighted): {:.2f}'.format(f1_score_RF_2))"
   ]
  },
  {
   "cell_type": "markdown",
   "metadata": {},
   "source": [
    "<div class=\"alert alert-block alert-info\">\n",
    "\n",
    "Лучший результат метрики получился без подбора гиперпараметров, но с использованием параметра average `F1_score = 0.95`. Данный результат удовлетворяет исходным условиям, где F1_score = 0.75.\n",
    "    \n",
    "При гиперпараметрах: max_depth=91, n_estimators=4 `F1_score = 0.39`"
   ]
  },
  {
   "cell_type": "markdown",
   "metadata": {},
   "source": [
    "### Модель LGBM"
   ]
  },
  {
   "cell_type": "code",
   "execution_count": 13,
   "metadata": {},
   "outputs": [
    {
     "name": "stderr",
     "output_type": "stream",
     "text": [
      "/opt/conda/lib/python3.7/site-packages/sklearn/metrics/classification.py:1437: UndefinedMetricWarning: F-score is ill-defined and being set to 0.0 due to no predicted samples.\n",
      "  'precision', 'predicted', average, warn_for)\n"
     ]
    },
    {
     "name": "stdout",
     "output_type": "stream",
     "text": [
      "Лучшая модель со след. параметрами: \n",
      " LGBMClassifier(boosting_type='gbdt', class_weight=None, colsample_bytree=1.0,\n",
      "               importance_type='split', learning_rate=0.1, max_depth=4,\n",
      "               min_child_samples=20, min_child_weight=0.001, min_split_gain=0.0,\n",
      "               n_estimators=61, n_jobs=-1, num_leaves=31, objective=None,\n",
      "               random_state=0, reg_alpha=0.0, reg_lambda=0.0, silent=True,\n",
      "               subsample=1.0, subsample_for_bin=200000, subsample_freq=0)\n",
      "Показатель F1_score для LGBM (average=macro): 0.55\n"
     ]
    }
   ],
   "source": [
    "best_model_lgbm = None\n",
    "best_f1_score_LGBM = 0\n",
    " \n",
    "for est in range(1, 71, 10):\n",
    "    for depth in range(1, 5, 1):\n",
    "        model_lgbm = LGBMClassifier(random_state=0, n_estimators=est, max_depth=depth)\n",
    "        model_lgbm.fit(x_train,y_train)\n",
    "        pred_test_LGBM = model_lgbm.predict(x_test)\n",
    "        f1_score_LGBM = f1_score(y_test, pred_test_LGBM)\n",
    "        if f1_score_LGBM > best_f1_score_LGBM:\n",
    "            best_model_lgbm = model_lgbm\n",
    "            best_f1_score_LGBM = f1_score_LGBM\n",
    "\n",
    "print('Лучшая модель со след. параметрами:', '\\n', best_model_lgbm)\n",
    "print('Показатель F1_score для LGBM (average=macro): {:.2f}'.format(best_f1_score_LGBM))"
   ]
  },
  {
   "cell_type": "code",
   "execution_count": 14,
   "metadata": {},
   "outputs": [
    {
     "name": "stderr",
     "output_type": "stream",
     "text": [
      "/opt/conda/lib/python3.7/site-packages/sklearn/metrics/classification.py:1437: UndefinedMetricWarning: F-score is ill-defined and being set to 0.0 in labels with no predicted samples.\n",
      "  'precision', 'predicted', average, warn_for)\n"
     ]
    },
    {
     "name": "stdout",
     "output_type": "stream",
     "text": [
      "Лучшая модель со след. параметрами: \n",
      " LGBMClassifier(boosting_type='gbdt', class_weight=None, colsample_bytree=1.0,\n",
      "               importance_type='split', learning_rate=0.1, max_depth=4,\n",
      "               min_child_samples=20, min_child_weight=0.001, min_split_gain=0.0,\n",
      "               n_estimators=61, n_jobs=-1, num_leaves=31, objective=None,\n",
      "               random_state=0, reg_alpha=0.0, reg_lambda=0.0, silent=True,\n",
      "               subsample=1.0, subsample_for_bin=200000, subsample_freq=0)\n",
      "Показатель F1_score для LGBM (average=macro): 0.76\n"
     ]
    }
   ],
   "source": [
    "best_model_lgbm_1 = None\n",
    "best_f1_score_LGBM_1 = 0\n",
    " \n",
    "for est in range(1, 71, 10):\n",
    "    for depth in range(1, 5, 1):\n",
    "        model_lgbm = LGBMClassifier(random_state=0, n_estimators=est, max_depth=depth)\n",
    "        model_lgbm.fit(x_train,y_train)\n",
    "        pred_test_LGBM = model_lgbm.predict(x_test)\n",
    "        f1_score_LGBM = f1_score(y_test, pred_test_LGBM, average='macro')\n",
    "        if f1_score_LGBM > best_f1_score_LGBM_1:\n",
    "            best_model_lgbm_1 = model_lgbm\n",
    "            best_f1_score_LGBM_1 = f1_score_LGBM\n",
    "\n",
    "print('Лучшая модель со след. параметрами:', '\\n', best_model_lgbm_1)\n",
    "print('Показатель F1_score для LGBM (average=macro): {:.2f}'.format(best_f1_score_LGBM_1))"
   ]
  },
  {
   "cell_type": "markdown",
   "metadata": {},
   "source": [
    "<div class=\"alert alert-block alert-info\">\n",
    "\n",
    "Лучший результат модели с гиперпараметрами: max_depth=4, n_estimators=61 и метрики с параметром (average=macro) `F1_score = 0.76`. Результат улучшается засчет параметра (average=macro), с параметрами по умолчанию `F1_score = 0.55`. \n",
    "\n",
    "Данный результат удовлетворяет исходным условиям, где F1_score = 0.75, но при парамтере (average=macro)."
   ]
  },
  {
   "cell_type": "markdown",
   "metadata": {},
   "source": [
    "## Выводы"
   ]
  },
  {
   "cell_type": "markdown",
   "metadata": {},
   "source": [
    "### Сводная таблица"
   ]
  },
  {
   "cell_type": "code",
   "execution_count": 15,
   "metadata": {},
   "outputs": [
    {
     "data": {
      "text/html": [
       "<div>\n",
       "<style scoped>\n",
       "    .dataframe tbody tr th:only-of-type {\n",
       "        vertical-align: middle;\n",
       "    }\n",
       "\n",
       "    .dataframe tbody tr th {\n",
       "        vertical-align: top;\n",
       "    }\n",
       "\n",
       "    .dataframe thead th {\n",
       "        text-align: right;\n",
       "    }\n",
       "</style>\n",
       "<table border=\"1\" class=\"dataframe\">\n",
       "  <thead>\n",
       "    <tr style=\"text-align: right;\">\n",
       "      <th></th>\n",
       "      <th>model_name</th>\n",
       "      <th>F1_score</th>\n",
       "      <th>F1_score(average=...)</th>\n",
       "    </tr>\n",
       "  </thead>\n",
       "  <tbody>\n",
       "    <tr>\n",
       "      <td>0</td>\n",
       "      <td>LightGBMClassifier</td>\n",
       "      <td>0.55</td>\n",
       "      <td>0.76</td>\n",
       "    </tr>\n",
       "    <tr>\n",
       "      <td>1</td>\n",
       "      <td>RandomForestClassifier</td>\n",
       "      <td>0.67</td>\n",
       "      <td>0.94</td>\n",
       "    </tr>\n",
       "    <tr>\n",
       "      <td>2</td>\n",
       "      <td>LogisticRegression</td>\n",
       "      <td>0.73</td>\n",
       "      <td>0.95</td>\n",
       "    </tr>\n",
       "    <tr>\n",
       "      <td>3</td>\n",
       "      <td>DesicionTreeClassifier</td>\n",
       "      <td>0.73</td>\n",
       "      <td>0.95</td>\n",
       "    </tr>\n",
       "  </tbody>\n",
       "</table>\n",
       "</div>"
      ],
      "text/plain": [
       "               model_name  F1_score  F1_score(average=...)\n",
       "0      LightGBMClassifier      0.55                   0.76\n",
       "1  RandomForestClassifier      0.67                   0.94\n",
       "2      LogisticRegression      0.73                   0.95\n",
       "3  DesicionTreeClassifier      0.73                   0.95"
      ]
     },
     "execution_count": 15,
     "metadata": {},
     "output_type": "execute_result"
    }
   ],
   "source": [
    "result_name = ['model_name', 'F1_score', 'F1_score(average=...)']\n",
    "result_lr = ['LogisticRegression', f1_score_lr_1, f1_score_lr_2]\n",
    "result_dt = ['DesicionTreeClassifier', best_f1_score_DT, best_f1_score_DT_1]\n",
    "result_rf = ['RandomForestClassifier', f1_score_RF_1, f1_score_RF_2]\n",
    "result_lgbm = ['LightGBMClassifier', best_f1_score_LGBM, best_f1_score_LGBM_1]\n",
    "\n",
    "df_results = pd.DataFrame([result_lr, result_dt, result_rf, result_lgbm], columns=result_name)\n",
    "\n",
    "df_results = df_results.round(2)\n",
    "df_results.style.set_caption(\"Results of the different machine learning models\")\n",
    "df_results = df_results.sort_values('F1_score(average=...)', ascending=True).reset_index()\n",
    "df_results.drop('index', axis=1, inplace=True)\n",
    "\n",
    "df_results"
   ]
  },
  {
   "cell_type": "markdown",
   "metadata": {},
   "source": [
    "<div class=\"alert alert-block alert-info\">\n",
    "\n",
    "**В проекте были выполнены следующие действия:**\n",
    "    \n",
    "  1. Проведена предобработка данных, где были лемматизированы текстовые данные, очищены от лишних символов и соединены без лишних пропусков.  \n",
    "  2. Данные были приведены к общему типу для дальнейшего создания признаков на основе уникальных слов. \n",
    "  3. Были обучены четыре классификационные модели машинного обучения, а также подобраны оптимальные параметры для их обучения.\n",
    "  4. Получены прогнозируемые значения для характера твита.\n",
    "  5. Исходя из прогнозов была рассчитана метрика: F1, которая выражается в долях.\n",
    " \n",
    "**Исходя из полученных данных можно сделать следующий вывод:**   \n",
    "Наиболее эффективными моделями по полученным результатам оказались модели LogisticRegression, DesicionTreeClassifier и RandomForestClassifier с недефолтными параметрами (с `average=weighted`). **Значение F1 составило 0.95**. Это наибольший показатель среди всех моделей, но с подобранным параметром `average` у метрики F1_score. Данный подобранный параметр может искажать суть метрики, так как зависит от среднезвешенного среднего.\n",
    "Наиболее эффективными моделями по полученным результатам оказались модели LogisticRegression, DesicionTreeClassifier с дефолтными параметрами. **Значение F1 составило 0.73**.\n",
    "Значение 0.95 не выглядит правдоподобно, так как при введение `average=weighted` любая метрика дает одинаковый высокий результат.\n",
    "На мой взгляд лучший показатель у модели - LightGBMClassifier с метрикой **F1 = 0.76** при `average=macro`. `average=macro` не зависит от баланса классов, поэтому результат похож на правду."
   ]
  }
 ],
 "metadata": {
  "ExecuteTimeLog": [
   {
    "duration": 528,
    "start_time": "2021-06-09T20:26:40.310Z"
   },
   {
    "duration": 607,
    "start_time": "2021-06-09T20:26:40.840Z"
   },
   {
    "duration": 3,
    "start_time": "2021-06-09T20:26:41.449Z"
   },
   {
    "duration": 2587,
    "start_time": "2021-06-09T20:26:41.454Z"
   },
   {
    "duration": 3,
    "start_time": "2021-06-09T20:27:57.427Z"
   },
   {
    "duration": 590,
    "start_time": "2021-06-09T20:27:57.431Z"
   },
   {
    "duration": 3,
    "start_time": "2021-06-09T20:27:58.023Z"
   },
   {
    "duration": 577,
    "start_time": "2021-06-09T20:28:09.286Z"
   },
   {
    "duration": 624,
    "start_time": "2021-06-09T20:28:09.865Z"
   },
   {
    "duration": 3,
    "start_time": "2021-06-09T20:28:10.491Z"
   },
   {
    "duration": 2441,
    "start_time": "2021-06-09T20:28:10.495Z"
   },
   {
    "duration": 1817,
    "start_time": "2021-06-13T08:49:01.947Z"
   },
   {
    "duration": 2821,
    "start_time": "2021-06-13T08:49:03.767Z"
   },
   {
    "duration": 1930,
    "start_time": "2021-06-13T08:50:25.311Z"
   },
   {
    "duration": 5,
    "start_time": "2021-06-13T08:50:30.945Z"
   },
   {
    "duration": 25,
    "start_time": "2021-06-13T08:50:31.910Z"
   },
   {
    "duration": 1689,
    "start_time": "2021-06-13T09:14:42.428Z"
   },
   {
    "duration": 1604,
    "start_time": "2021-06-13T09:14:44.120Z"
   },
   {
    "duration": 4,
    "start_time": "2021-06-13T09:14:45.727Z"
   },
   {
    "duration": 55,
    "start_time": "2021-06-13T09:14:45.734Z"
   },
   {
    "duration": 7963,
    "start_time": "2021-06-13T09:14:45.791Z"
   },
   {
    "duration": 53,
    "start_time": "2021-06-13T09:14:53.756Z"
   },
   {
    "duration": 26513,
    "start_time": "2021-06-13T09:14:53.812Z"
   },
   {
    "duration": 9068,
    "start_time": "2021-06-13T09:15:20.329Z"
   },
   {
    "duration": 647954,
    "start_time": "2021-06-13T09:15:29.409Z"
   },
   {
    "duration": 640601,
    "start_time": "2021-06-13T09:26:17.365Z"
   },
   {
    "duration": 217324,
    "start_time": "2021-06-13T09:36:57.969Z"
   },
   {
    "duration": 70528,
    "start_time": "2021-06-13T09:40:35.296Z"
   },
   {
    "duration": 448790,
    "start_time": "2021-06-13T09:41:45.828Z"
   },
   {
    "duration": 369295,
    "start_time": "2021-06-13T09:49:14.620Z"
   },
   {
    "duration": 910,
    "start_time": "2021-06-13T09:55:23.917Z"
   }
  ],
  "kernelspec": {
   "display_name": "Python 3",
   "language": "python",
   "name": "python3"
  },
  "language_info": {
   "codemirror_mode": {
    "name": "ipython",
    "version": 3
   },
   "file_extension": ".py",
   "mimetype": "text/x-python",
   "name": "python",
   "nbconvert_exporter": "python",
   "pygments_lexer": "ipython3",
   "version": "3.7.8"
  },
  "toc": {
   "base_numbering": 1,
   "nav_menu": {},
   "number_sections": true,
   "sideBar": true,
   "skip_h1_title": true,
   "title_cell": "Содержание",
   "title_sidebar": "Contents",
   "toc_cell": true,
   "toc_position": {
    "height": "calc(100% - 180px)",
    "left": "10px",
    "top": "150px",
    "width": "302.391px"
   },
   "toc_section_display": true,
   "toc_window_display": true
  }
 },
 "nbformat": 4,
 "nbformat_minor": 2
}
