{
 "cells": [
  {
   "cell_type": "markdown",
   "metadata": {},
   "source": [
    "# Выбор локации для скважины"
   ]
  },
  {
   "cell_type": "markdown",
   "metadata": {},
   "source": [
    "## Цель и задачи"
   ]
  },
  {
   "cell_type": "markdown",
   "metadata": {},
   "source": [
    "Добывающая компания «ГлавРосГосНефть». Предоставлены пробы нефти в трёх регионах: в каждом 10 000 месторождений, где измерили качество нефти и объём её запасов. \n",
    "\n",
    "**Цель:** построить модель машинного обучения, которая поможет определить регион, где добыча принесёт наибольшую прибыль. Проанализировать возможную прибыль и риски техникой *Bootstrap.*\n",
    "\n",
    "**Задачи:**\n",
    "- Провести предобработку данных\n",
    "- В избранном регионе найти месторождения, для каждого определить значения признаков;\n",
    "- Построить модель и оценить объём запасов;\n",
    "- Выбрать месторождения с самым высокими оценками значений.\n",
    "- Расчитать риски\n",
    "- Обозначить выводы\n"
   ]
  },
  {
   "cell_type": "markdown",
   "metadata": {},
   "source": [
    "## Загрузка и подготовка данных"
   ]
  },
  {
   "cell_type": "markdown",
   "metadata": {},
   "source": [
    "### Загрузка и изучение данных"
   ]
  },
  {
   "cell_type": "code",
   "execution_count": 1,
   "metadata": {},
   "outputs": [],
   "source": [
    "import pandas as pd \n",
    "from sklearn.tree import DecisionTreeClassifier\n",
    "from sklearn.ensemble import RandomForestClassifier\n",
    "from sklearn.linear_model import LogisticRegression\n",
    "from sklearn.model_selection import train_test_split\n",
    "from sklearn.metrics import mean_squared_error\n",
    "from sklearn.metrics import accuracy_score\n",
    "from sklearn.model_selection import GridSearchCV\n",
    "from sklearn.neighbors import KNeighborsClassifier\n",
    "from sklearn.metrics import confusion_matrix\n",
    "from sklearn.metrics import roc_auc_score\n",
    "from sklearn.metrics import recall_score\n",
    "from sklearn.metrics import precision_score\n",
    "from sklearn.metrics import f1_score\n",
    "from sklearn.metrics import roc_curve\n",
    "from sklearn.utils import shuffle\n",
    "import seaborn as sns\n",
    "from scipy import stats as st\n",
    "import numpy as np\n",
    "import matplotlib.pyplot as plt\n",
    "import plotly.express as px\n",
    "import plotly.graph_objects as go\n",
    "from sklearn.preprocessing import StandardScaler\n",
    "from sklearn.linear_model import LinearRegression\n",
    "#Импортируем необходимые библиотеки\n",
    "pd.set_option('display.max_columns', None)\n",
    "pd.options.mode.chained_assignment = None \n",
    "#Чтобы не появлялось предупреждение SettingWithCopy при масштабировании\n"
   ]
  },
  {
   "cell_type": "code",
   "execution_count": 2,
   "metadata": {},
   "outputs": [
    {
     "name": "stdout",
     "output_type": "stream",
     "text": [
      "<class 'pandas.core.frame.DataFrame'>\n",
      "RangeIndex: 100000 entries, 0 to 99999\n",
      "Data columns (total 5 columns):\n",
      "id         100000 non-null object\n",
      "f0         100000 non-null float64\n",
      "f1         100000 non-null float64\n",
      "f2         100000 non-null float64\n",
      "product    100000 non-null float64\n",
      "dtypes: float64(4), object(1)\n",
      "memory usage: 3.8+ MB\n",
      "<class 'pandas.core.frame.DataFrame'>\n",
      "RangeIndex: 100000 entries, 0 to 99999\n",
      "Data columns (total 5 columns):\n",
      "id         100000 non-null object\n",
      "f0         100000 non-null float64\n",
      "f1         100000 non-null float64\n",
      "f2         100000 non-null float64\n",
      "product    100000 non-null float64\n",
      "dtypes: float64(4), object(1)\n",
      "memory usage: 3.8+ MB\n",
      "<class 'pandas.core.frame.DataFrame'>\n",
      "RangeIndex: 100000 entries, 0 to 99999\n",
      "Data columns (total 5 columns):\n",
      "id         100000 non-null object\n",
      "f0         100000 non-null float64\n",
      "f1         100000 non-null float64\n",
      "f2         100000 non-null float64\n",
      "product    100000 non-null float64\n",
      "dtypes: float64(4), object(1)\n",
      "memory usage: 3.8+ MB\n"
     ]
    }
   ],
   "source": [
    "data1 = pd.read_csv('/datasets/geo_data_0.csv')\n",
    "data2 = pd.read_csv('/datasets/geo_data_1.csv')\n",
    "data3 = pd.read_csv('/datasets/geo_data_2.csv')\n",
    "data1.info()\n",
    "data2.info()\n",
    "data3.info()"
   ]
  },
  {
   "cell_type": "code",
   "execution_count": 3,
   "metadata": {},
   "outputs": [
    {
     "data": {
      "text/html": [
       "<div>\n",
       "<style scoped>\n",
       "    .dataframe tbody tr th:only-of-type {\n",
       "        vertical-align: middle;\n",
       "    }\n",
       "\n",
       "    .dataframe tbody tr th {\n",
       "        vertical-align: top;\n",
       "    }\n",
       "\n",
       "    .dataframe thead th {\n",
       "        text-align: right;\n",
       "    }\n",
       "</style>\n",
       "<table border=\"1\" class=\"dataframe\">\n",
       "  <thead>\n",
       "    <tr style=\"text-align: right;\">\n",
       "      <th></th>\n",
       "      <th>id</th>\n",
       "      <th>f0</th>\n",
       "      <th>f1</th>\n",
       "      <th>f2</th>\n",
       "      <th>product</th>\n",
       "    </tr>\n",
       "  </thead>\n",
       "  <tbody>\n",
       "    <tr>\n",
       "      <td>0</td>\n",
       "      <td>txEyH</td>\n",
       "      <td>0.705745</td>\n",
       "      <td>-0.497823</td>\n",
       "      <td>1.221170</td>\n",
       "      <td>105.280062</td>\n",
       "    </tr>\n",
       "    <tr>\n",
       "      <td>1</td>\n",
       "      <td>2acmU</td>\n",
       "      <td>1.334711</td>\n",
       "      <td>-0.340164</td>\n",
       "      <td>4.365080</td>\n",
       "      <td>73.037750</td>\n",
       "    </tr>\n",
       "    <tr>\n",
       "      <td>2</td>\n",
       "      <td>409Wp</td>\n",
       "      <td>1.022732</td>\n",
       "      <td>0.151990</td>\n",
       "      <td>1.419926</td>\n",
       "      <td>85.265647</td>\n",
       "    </tr>\n",
       "    <tr>\n",
       "      <td>3</td>\n",
       "      <td>iJLyR</td>\n",
       "      <td>-0.032172</td>\n",
       "      <td>0.139033</td>\n",
       "      <td>2.978566</td>\n",
       "      <td>168.620776</td>\n",
       "    </tr>\n",
       "    <tr>\n",
       "      <td>4</td>\n",
       "      <td>Xdl7t</td>\n",
       "      <td>1.988431</td>\n",
       "      <td>0.155413</td>\n",
       "      <td>4.751769</td>\n",
       "      <td>154.036647</td>\n",
       "    </tr>\n",
       "  </tbody>\n",
       "</table>\n",
       "</div>"
      ],
      "text/plain": [
       "      id        f0        f1        f2     product\n",
       "0  txEyH  0.705745 -0.497823  1.221170  105.280062\n",
       "1  2acmU  1.334711 -0.340164  4.365080   73.037750\n",
       "2  409Wp  1.022732  0.151990  1.419926   85.265647\n",
       "3  iJLyR -0.032172  0.139033  2.978566  168.620776\n",
       "4  Xdl7t  1.988431  0.155413  4.751769  154.036647"
      ]
     },
     "execution_count": 3,
     "metadata": {},
     "output_type": "execute_result"
    }
   ],
   "source": [
    "data1.head()"
   ]
  },
  {
   "cell_type": "code",
   "execution_count": 4,
   "metadata": {},
   "outputs": [
    {
     "data": {
      "text/html": [
       "<div>\n",
       "<style scoped>\n",
       "    .dataframe tbody tr th:only-of-type {\n",
       "        vertical-align: middle;\n",
       "    }\n",
       "\n",
       "    .dataframe tbody tr th {\n",
       "        vertical-align: top;\n",
       "    }\n",
       "\n",
       "    .dataframe thead th {\n",
       "        text-align: right;\n",
       "    }\n",
       "</style>\n",
       "<table border=\"1\" class=\"dataframe\">\n",
       "  <thead>\n",
       "    <tr style=\"text-align: right;\">\n",
       "      <th></th>\n",
       "      <th>id</th>\n",
       "      <th>f0</th>\n",
       "      <th>f1</th>\n",
       "      <th>f2</th>\n",
       "      <th>product</th>\n",
       "    </tr>\n",
       "  </thead>\n",
       "  <tbody>\n",
       "    <tr>\n",
       "      <td>0</td>\n",
       "      <td>kBEdx</td>\n",
       "      <td>-15.001348</td>\n",
       "      <td>-8.276000</td>\n",
       "      <td>-0.005876</td>\n",
       "      <td>3.179103</td>\n",
       "    </tr>\n",
       "    <tr>\n",
       "      <td>1</td>\n",
       "      <td>62mP7</td>\n",
       "      <td>14.272088</td>\n",
       "      <td>-3.475083</td>\n",
       "      <td>0.999183</td>\n",
       "      <td>26.953261</td>\n",
       "    </tr>\n",
       "    <tr>\n",
       "      <td>2</td>\n",
       "      <td>vyE1P</td>\n",
       "      <td>6.263187</td>\n",
       "      <td>-5.948386</td>\n",
       "      <td>5.001160</td>\n",
       "      <td>134.766305</td>\n",
       "    </tr>\n",
       "    <tr>\n",
       "      <td>3</td>\n",
       "      <td>KcrkZ</td>\n",
       "      <td>-13.081196</td>\n",
       "      <td>-11.506057</td>\n",
       "      <td>4.999415</td>\n",
       "      <td>137.945408</td>\n",
       "    </tr>\n",
       "    <tr>\n",
       "      <td>4</td>\n",
       "      <td>AHL4O</td>\n",
       "      <td>12.702195</td>\n",
       "      <td>-8.147433</td>\n",
       "      <td>5.004363</td>\n",
       "      <td>134.766305</td>\n",
       "    </tr>\n",
       "  </tbody>\n",
       "</table>\n",
       "</div>"
      ],
      "text/plain": [
       "      id         f0         f1        f2     product\n",
       "0  kBEdx -15.001348  -8.276000 -0.005876    3.179103\n",
       "1  62mP7  14.272088  -3.475083  0.999183   26.953261\n",
       "2  vyE1P   6.263187  -5.948386  5.001160  134.766305\n",
       "3  KcrkZ -13.081196 -11.506057  4.999415  137.945408\n",
       "4  AHL4O  12.702195  -8.147433  5.004363  134.766305"
      ]
     },
     "execution_count": 4,
     "metadata": {},
     "output_type": "execute_result"
    }
   ],
   "source": [
    "data2.head()"
   ]
  },
  {
   "cell_type": "code",
   "execution_count": 5,
   "metadata": {},
   "outputs": [
    {
     "data": {
      "text/html": [
       "<div>\n",
       "<style scoped>\n",
       "    .dataframe tbody tr th:only-of-type {\n",
       "        vertical-align: middle;\n",
       "    }\n",
       "\n",
       "    .dataframe tbody tr th {\n",
       "        vertical-align: top;\n",
       "    }\n",
       "\n",
       "    .dataframe thead th {\n",
       "        text-align: right;\n",
       "    }\n",
       "</style>\n",
       "<table border=\"1\" class=\"dataframe\">\n",
       "  <thead>\n",
       "    <tr style=\"text-align: right;\">\n",
       "      <th></th>\n",
       "      <th>id</th>\n",
       "      <th>f0</th>\n",
       "      <th>f1</th>\n",
       "      <th>f2</th>\n",
       "      <th>product</th>\n",
       "    </tr>\n",
       "  </thead>\n",
       "  <tbody>\n",
       "    <tr>\n",
       "      <td>0</td>\n",
       "      <td>fwXo0</td>\n",
       "      <td>-1.146987</td>\n",
       "      <td>0.963328</td>\n",
       "      <td>-0.828965</td>\n",
       "      <td>27.758673</td>\n",
       "    </tr>\n",
       "    <tr>\n",
       "      <td>1</td>\n",
       "      <td>WJtFt</td>\n",
       "      <td>0.262778</td>\n",
       "      <td>0.269839</td>\n",
       "      <td>-2.530187</td>\n",
       "      <td>56.069697</td>\n",
       "    </tr>\n",
       "    <tr>\n",
       "      <td>2</td>\n",
       "      <td>ovLUW</td>\n",
       "      <td>0.194587</td>\n",
       "      <td>0.289035</td>\n",
       "      <td>-5.586433</td>\n",
       "      <td>62.871910</td>\n",
       "    </tr>\n",
       "    <tr>\n",
       "      <td>3</td>\n",
       "      <td>q6cA6</td>\n",
       "      <td>2.236060</td>\n",
       "      <td>-0.553760</td>\n",
       "      <td>0.930038</td>\n",
       "      <td>114.572842</td>\n",
       "    </tr>\n",
       "    <tr>\n",
       "      <td>4</td>\n",
       "      <td>WPMUX</td>\n",
       "      <td>-0.515993</td>\n",
       "      <td>1.716266</td>\n",
       "      <td>5.899011</td>\n",
       "      <td>149.600746</td>\n",
       "    </tr>\n",
       "  </tbody>\n",
       "</table>\n",
       "</div>"
      ],
      "text/plain": [
       "      id        f0        f1        f2     product\n",
       "0  fwXo0 -1.146987  0.963328 -0.828965   27.758673\n",
       "1  WJtFt  0.262778  0.269839 -2.530187   56.069697\n",
       "2  ovLUW  0.194587  0.289035 -5.586433   62.871910\n",
       "3  q6cA6  2.236060 -0.553760  0.930038  114.572842\n",
       "4  WPMUX -0.515993  1.716266  5.899011  149.600746"
      ]
     },
     "execution_count": 5,
     "metadata": {},
     "output_type": "execute_result"
    }
   ],
   "source": [
    "data3.head()"
   ]
  },
  {
   "cell_type": "code",
   "execution_count": 6,
   "metadata": {},
   "outputs": [
    {
     "name": "stdout",
     "output_type": "stream",
     "text": [
      "0\n",
      "0\n",
      "0\n"
     ]
    }
   ],
   "source": [
    "print(data1.duplicated().sum())\n",
    "print(data2.duplicated().sum())\n",
    "print(data3.duplicated().sum())"
   ]
  },
  {
   "cell_type": "code",
   "execution_count": 7,
   "metadata": {},
   "outputs": [
    {
     "data": {
      "text/html": [
       "<div>\n",
       "<style scoped>\n",
       "    .dataframe tbody tr th:only-of-type {\n",
       "        vertical-align: middle;\n",
       "    }\n",
       "\n",
       "    .dataframe tbody tr th {\n",
       "        vertical-align: top;\n",
       "    }\n",
       "\n",
       "    .dataframe thead th {\n",
       "        text-align: right;\n",
       "    }\n",
       "</style>\n",
       "<table border=\"1\" class=\"dataframe\">\n",
       "  <thead>\n",
       "    <tr style=\"text-align: right;\">\n",
       "      <th></th>\n",
       "      <th>f0</th>\n",
       "      <th>f1</th>\n",
       "      <th>f2</th>\n",
       "      <th>product</th>\n",
       "    </tr>\n",
       "  </thead>\n",
       "  <tbody>\n",
       "    <tr>\n",
       "      <td>count</td>\n",
       "      <td>100000.000000</td>\n",
       "      <td>100000.000000</td>\n",
       "      <td>100000.000000</td>\n",
       "      <td>100000.000000</td>\n",
       "    </tr>\n",
       "    <tr>\n",
       "      <td>mean</td>\n",
       "      <td>0.500419</td>\n",
       "      <td>0.250143</td>\n",
       "      <td>2.502647</td>\n",
       "      <td>92.500000</td>\n",
       "    </tr>\n",
       "    <tr>\n",
       "      <td>std</td>\n",
       "      <td>0.871832</td>\n",
       "      <td>0.504433</td>\n",
       "      <td>3.248248</td>\n",
       "      <td>44.288691</td>\n",
       "    </tr>\n",
       "    <tr>\n",
       "      <td>min</td>\n",
       "      <td>-1.408605</td>\n",
       "      <td>-0.848218</td>\n",
       "      <td>-12.088328</td>\n",
       "      <td>0.000000</td>\n",
       "    </tr>\n",
       "    <tr>\n",
       "      <td>25%</td>\n",
       "      <td>-0.072580</td>\n",
       "      <td>-0.200881</td>\n",
       "      <td>0.287748</td>\n",
       "      <td>56.497507</td>\n",
       "    </tr>\n",
       "    <tr>\n",
       "      <td>50%</td>\n",
       "      <td>0.502360</td>\n",
       "      <td>0.250252</td>\n",
       "      <td>2.515969</td>\n",
       "      <td>91.849972</td>\n",
       "    </tr>\n",
       "    <tr>\n",
       "      <td>75%</td>\n",
       "      <td>1.073581</td>\n",
       "      <td>0.700646</td>\n",
       "      <td>4.715088</td>\n",
       "      <td>128.564089</td>\n",
       "    </tr>\n",
       "    <tr>\n",
       "      <td>max</td>\n",
       "      <td>2.362331</td>\n",
       "      <td>1.343769</td>\n",
       "      <td>16.003790</td>\n",
       "      <td>185.364347</td>\n",
       "    </tr>\n",
       "  </tbody>\n",
       "</table>\n",
       "</div>"
      ],
      "text/plain": [
       "                  f0             f1             f2        product\n",
       "count  100000.000000  100000.000000  100000.000000  100000.000000\n",
       "mean        0.500419       0.250143       2.502647      92.500000\n",
       "std         0.871832       0.504433       3.248248      44.288691\n",
       "min        -1.408605      -0.848218     -12.088328       0.000000\n",
       "25%        -0.072580      -0.200881       0.287748      56.497507\n",
       "50%         0.502360       0.250252       2.515969      91.849972\n",
       "75%         1.073581       0.700646       4.715088     128.564089\n",
       "max         2.362331       1.343769      16.003790     185.364347"
      ]
     },
     "execution_count": 7,
     "metadata": {},
     "output_type": "execute_result"
    }
   ],
   "source": [
    "data1.describe()"
   ]
  },
  {
   "cell_type": "code",
   "execution_count": 8,
   "metadata": {},
   "outputs": [
    {
     "data": {
      "text/html": [
       "<div>\n",
       "<style scoped>\n",
       "    .dataframe tbody tr th:only-of-type {\n",
       "        vertical-align: middle;\n",
       "    }\n",
       "\n",
       "    .dataframe tbody tr th {\n",
       "        vertical-align: top;\n",
       "    }\n",
       "\n",
       "    .dataframe thead th {\n",
       "        text-align: right;\n",
       "    }\n",
       "</style>\n",
       "<table border=\"1\" class=\"dataframe\">\n",
       "  <thead>\n",
       "    <tr style=\"text-align: right;\">\n",
       "      <th></th>\n",
       "      <th>f0</th>\n",
       "      <th>f1</th>\n",
       "      <th>f2</th>\n",
       "      <th>product</th>\n",
       "    </tr>\n",
       "  </thead>\n",
       "  <tbody>\n",
       "    <tr>\n",
       "      <td>count</td>\n",
       "      <td>100000.000000</td>\n",
       "      <td>100000.000000</td>\n",
       "      <td>100000.000000</td>\n",
       "      <td>100000.000000</td>\n",
       "    </tr>\n",
       "    <tr>\n",
       "      <td>mean</td>\n",
       "      <td>1.141296</td>\n",
       "      <td>-4.796579</td>\n",
       "      <td>2.494541</td>\n",
       "      <td>68.825000</td>\n",
       "    </tr>\n",
       "    <tr>\n",
       "      <td>std</td>\n",
       "      <td>8.965932</td>\n",
       "      <td>5.119872</td>\n",
       "      <td>1.703572</td>\n",
       "      <td>45.944423</td>\n",
       "    </tr>\n",
       "    <tr>\n",
       "      <td>min</td>\n",
       "      <td>-31.609576</td>\n",
       "      <td>-26.358598</td>\n",
       "      <td>-0.018144</td>\n",
       "      <td>0.000000</td>\n",
       "    </tr>\n",
       "    <tr>\n",
       "      <td>25%</td>\n",
       "      <td>-6.298551</td>\n",
       "      <td>-8.267985</td>\n",
       "      <td>1.000021</td>\n",
       "      <td>26.953261</td>\n",
       "    </tr>\n",
       "    <tr>\n",
       "      <td>50%</td>\n",
       "      <td>1.153055</td>\n",
       "      <td>-4.813172</td>\n",
       "      <td>2.011479</td>\n",
       "      <td>57.085625</td>\n",
       "    </tr>\n",
       "    <tr>\n",
       "      <td>75%</td>\n",
       "      <td>8.621015</td>\n",
       "      <td>-1.332816</td>\n",
       "      <td>3.999904</td>\n",
       "      <td>107.813044</td>\n",
       "    </tr>\n",
       "    <tr>\n",
       "      <td>max</td>\n",
       "      <td>29.421755</td>\n",
       "      <td>18.734063</td>\n",
       "      <td>5.019721</td>\n",
       "      <td>137.945408</td>\n",
       "    </tr>\n",
       "  </tbody>\n",
       "</table>\n",
       "</div>"
      ],
      "text/plain": [
       "                  f0             f1             f2        product\n",
       "count  100000.000000  100000.000000  100000.000000  100000.000000\n",
       "mean        1.141296      -4.796579       2.494541      68.825000\n",
       "std         8.965932       5.119872       1.703572      45.944423\n",
       "min       -31.609576     -26.358598      -0.018144       0.000000\n",
       "25%        -6.298551      -8.267985       1.000021      26.953261\n",
       "50%         1.153055      -4.813172       2.011479      57.085625\n",
       "75%         8.621015      -1.332816       3.999904     107.813044\n",
       "max        29.421755      18.734063       5.019721     137.945408"
      ]
     },
     "execution_count": 8,
     "metadata": {},
     "output_type": "execute_result"
    }
   ],
   "source": [
    "data2.describe()"
   ]
  },
  {
   "cell_type": "code",
   "execution_count": 9,
   "metadata": {},
   "outputs": [
    {
     "data": {
      "text/html": [
       "<div>\n",
       "<style scoped>\n",
       "    .dataframe tbody tr th:only-of-type {\n",
       "        vertical-align: middle;\n",
       "    }\n",
       "\n",
       "    .dataframe tbody tr th {\n",
       "        vertical-align: top;\n",
       "    }\n",
       "\n",
       "    .dataframe thead th {\n",
       "        text-align: right;\n",
       "    }\n",
       "</style>\n",
       "<table border=\"1\" class=\"dataframe\">\n",
       "  <thead>\n",
       "    <tr style=\"text-align: right;\">\n",
       "      <th></th>\n",
       "      <th>f0</th>\n",
       "      <th>f1</th>\n",
       "      <th>f2</th>\n",
       "      <th>product</th>\n",
       "    </tr>\n",
       "  </thead>\n",
       "  <tbody>\n",
       "    <tr>\n",
       "      <td>count</td>\n",
       "      <td>100000.000000</td>\n",
       "      <td>100000.000000</td>\n",
       "      <td>100000.000000</td>\n",
       "      <td>100000.000000</td>\n",
       "    </tr>\n",
       "    <tr>\n",
       "      <td>mean</td>\n",
       "      <td>0.002023</td>\n",
       "      <td>-0.002081</td>\n",
       "      <td>2.495128</td>\n",
       "      <td>95.000000</td>\n",
       "    </tr>\n",
       "    <tr>\n",
       "      <td>std</td>\n",
       "      <td>1.732045</td>\n",
       "      <td>1.730417</td>\n",
       "      <td>3.473445</td>\n",
       "      <td>44.749921</td>\n",
       "    </tr>\n",
       "    <tr>\n",
       "      <td>min</td>\n",
       "      <td>-8.760004</td>\n",
       "      <td>-7.084020</td>\n",
       "      <td>-11.970335</td>\n",
       "      <td>0.000000</td>\n",
       "    </tr>\n",
       "    <tr>\n",
       "      <td>25%</td>\n",
       "      <td>-1.162288</td>\n",
       "      <td>-1.174820</td>\n",
       "      <td>0.130359</td>\n",
       "      <td>59.450441</td>\n",
       "    </tr>\n",
       "    <tr>\n",
       "      <td>50%</td>\n",
       "      <td>0.009424</td>\n",
       "      <td>-0.009482</td>\n",
       "      <td>2.484236</td>\n",
       "      <td>94.925613</td>\n",
       "    </tr>\n",
       "    <tr>\n",
       "      <td>75%</td>\n",
       "      <td>1.158535</td>\n",
       "      <td>1.163678</td>\n",
       "      <td>4.858794</td>\n",
       "      <td>130.595027</td>\n",
       "    </tr>\n",
       "    <tr>\n",
       "      <td>max</td>\n",
       "      <td>7.238262</td>\n",
       "      <td>7.844801</td>\n",
       "      <td>16.739402</td>\n",
       "      <td>190.029838</td>\n",
       "    </tr>\n",
       "  </tbody>\n",
       "</table>\n",
       "</div>"
      ],
      "text/plain": [
       "                  f0             f1             f2        product\n",
       "count  100000.000000  100000.000000  100000.000000  100000.000000\n",
       "mean        0.002023      -0.002081       2.495128      95.000000\n",
       "std         1.732045       1.730417       3.473445      44.749921\n",
       "min        -8.760004      -7.084020     -11.970335       0.000000\n",
       "25%        -1.162288      -1.174820       0.130359      59.450441\n",
       "50%         0.009424      -0.009482       2.484236      94.925613\n",
       "75%         1.158535       1.163678       4.858794     130.595027\n",
       "max         7.238262       7.844801      16.739402     190.029838"
      ]
     },
     "execution_count": 9,
     "metadata": {},
     "output_type": "execute_result"
    }
   ],
   "source": [
    "data3.describe()"
   ]
  },
  {
   "cell_type": "markdown",
   "metadata": {},
   "source": [
    "<div class=\"alert alert-block alert-info\">\n",
    "\n",
    "В данной части проекта были загружены необходимые библиотеки и документы. После загрузки файлов, мы увидели что:\n",
    "1. Все три файла имеют 100000 строк и 2 типа данных: `object`(столбец id) и `float` (остальные числовые данные)\n",
    "2. Дубликатов и пропусков не обнаружено, значит можно готовить данные для обучения модели \n",
    "3. После вызова метода describe() выявлено, что распределение данных во втором регионе очень отличается от других. "
   ]
  },
  {
   "cell_type": "markdown",
   "metadata": {},
   "source": [
    "### Предобработка данных"
   ]
  },
  {
   "cell_type": "code",
   "execution_count": 10,
   "metadata": {},
   "outputs": [],
   "source": [
    "data1 = data1.drop('id', axis=1) \n",
    "data2 = data2.drop('id', axis=1) \n",
    "data3 = data3.drop('id', axis=1) "
   ]
  },
  {
   "cell_type": "code",
   "execution_count": 11,
   "metadata": {},
   "outputs": [
    {
     "data": {
      "image/png": "[encoded data removed]",
      "text/plain": [
       "<Figure size 360x360 with 2 Axes>"
      ]
     },
     "metadata": {
      "needs_background": "light"
     },
     "output_type": "display_data"
    }
   ],
   "source": [
    "fig, ax = plt.subplots()\n",
    "sns.heatmap(data1.corr(), vmin=-1, vmax=1, center=0, square=True, annot=True)\n",
    "fig.set_figwidth(5)\n",
    "fig.set_figheight(5)\n",
    "plt.title('График мультиколлинеарности признаков в регионе №1', fontsize=14)\n",
    "plt.show()"
   ]
  },
  {
   "cell_type": "code",
   "execution_count": 12,
   "metadata": {},
   "outputs": [
    {
     "data": {
      "image/png": "[encoded data removed]",
      "text/plain": [
       "<Figure size 360x360 with 2 Axes>"
      ]
     },
     "metadata": {
      "needs_background": "light"
     },
     "output_type": "display_data"
    }
   ],
   "source": [
    "fig, ax = plt.subplots()\n",
    "sns.heatmap(data2.corr(), vmin=-1, vmax=1, center=0, square=True, annot=True)\n",
    "fig.set_figwidth(5)\n",
    "fig.set_figheight(5)\n",
    "plt.title('График мультиколлинеарности признаков в регионе №2', fontsize=14)\n",
    "plt.show()"
   ]
  },
  {
   "cell_type": "code",
   "execution_count": 13,
   "metadata": {},
   "outputs": [
    {
     "data": {
      "image/png": "[encoded data removed]",
      "text/plain": [
       "<Figure size 360x360 with 2 Axes>"
      ]
     },
     "metadata": {
      "needs_background": "light"
     },
     "output_type": "display_data"
    }
   ],
   "source": [
    "fig, ax = plt.subplots()\n",
    "sns.heatmap(data3.corr(), vmin=-1, vmax=1, center=0, square=True, annot=True)\n",
    "fig.set_figwidth(5)\n",
    "fig.set_figheight(5)\n",
    "plt.title('График мультиколлинеарности признаков в регионе №3', fontsize=14)\n",
    "plt.show()"
   ]
  },
  {
   "cell_type": "markdown",
   "metadata": {},
   "source": [
    "<div class=\"alert alert-block alert-info\">\n",
    "\n",
    "- Так как в следующем пункте необходимо будет стандартизировать признаки, нам нужно было удалить столбец 'id', иначе он бы служил помехой и модель выдавала бы некорректные результаты. \n",
    "\n",
    "- После проверки признаков на мультиколлинеарность выявили, что сильной зависимости между признаками не наблюдается (будем считать зависимость сильной, если коэффициент корреляции >0.5 или <-0.5). \n",
    "\n",
    "- Во втором регионе наблюдается коэффициент корреляции = 1 между признаком f2 и целевым показателем, это поможет исследованию. \n",
    "\n",
    "**`Следовательно, ничего не удаляем, оставляем данные в исходном виде.`**"
   ]
  },
  {
   "cell_type": "markdown",
   "metadata": {},
   "source": [
    "## Обучение и проверка модели"
   ]
  },
  {
   "cell_type": "markdown",
   "metadata": {},
   "source": [
    "### Регион №1"
   ]
  },
  {
   "cell_type": "code",
   "execution_count": 14,
   "metadata": {},
   "outputs": [],
   "source": [
    "#Выделим признаки и целевой признак\n",
    "features1 = data1.drop('product', axis=1)\n",
    "target1 =  data1['product'] # Целевой признак\n",
    "\n",
    "features1_train, features1_valid, target1_train, target1_valid = train_test_split(features1, \n",
    "                                                                                  target1, \n",
    "                                                                                  train_size=0.75, \n",
    "                                                                                  random_state=12345) "
   ]
  },
  {
   "cell_type": "code",
   "execution_count": 15,
   "metadata": {},
   "outputs": [
    {
     "name": "stdout",
     "output_type": "stream",
     "text": [
      "             f0        f1        f2\n",
      "27212 -0.544828  1.390264 -0.094959\n",
      "7866   1.455912 -0.480422  1.209567\n",
      "62041  0.260460  0.825069 -0.204865\n",
      "70185 -1.837105  0.010321 -0.147634\n",
      "82230 -1.299243  0.987558  1.273181\n",
      "...         ...       ...       ...\n",
      "4094   1.567114 -1.087243 -0.272211\n",
      "85412 -1.904207 -0.525360  1.327530\n",
      "2177   0.418949 -1.296788 -0.196407\n",
      "77285  0.400077 -1.466874 -0.445317\n",
      "86498  1.746246  0.027415  2.766848\n",
      "\n",
      "[75000 rows x 3 columns]\n"
     ]
    }
   ],
   "source": [
    "numeric = ['f0', 'f1', 'f2']\n",
    "scaler1 = StandardScaler()\n",
    "scaler1.fit(features1_train[numeric]) \n",
    "features1_train[numeric] = scaler1.transform(features1_train[numeric])\n",
    "\n",
    "features1_valid[numeric] = scaler1.transform(features1_valid[numeric]) \n",
    "\n",
    "print(features1_train)"
   ]
  },
  {
   "cell_type": "code",
   "execution_count": 16,
   "metadata": {},
   "outputs": [
    {
     "name": "stdout",
     "output_type": "stream",
     "text": [
      "RMSE модели линейной регрессии на валидационной выборке: 37.5794217150813 тыс. баррелей\n",
      "Средний запас прогнозируемого сырья: 92.59256778438038 тыс. баррелей\n"
     ]
    }
   ],
   "source": [
    "model1 = LinearRegression()\n",
    "#Обучили модель на тренировочной выборке\n",
    "model1.fit(features1_train, target1_train) \n",
    "#Получили предсказания модели на валидационной выборке, сохранили в переменную\n",
    "predictions1 = model1.predict(features1_valid)\n",
    "\n",
    "result1 = mean_squared_error(target1_valid, predictions1) ** 0.5\n",
    "#Посчитали значение метрики RMSE на валидационной выборке\n",
    "print(\"RMSE модели линейной регрессии на валидационной выборке:\", result1, 'тыс. баррелей')\n",
    "#Средний запас прогнозируемого сырья'\n",
    "mean_predicted_volume1 = predictions1.sum() / len(predictions1)\n",
    "print(\"Средний запас прогнозируемого сырья:\", mean_predicted_volume1, 'тыс. баррелей')"
   ]
  },
  {
   "cell_type": "code",
   "execution_count": 17,
   "metadata": {},
   "outputs": [],
   "source": [
    "geo1_predict = pd.DataFrame()\n",
    "geo1_predict['product_geo1'] = target1_valid\n",
    "geo1_predict['predictions_geo1'] = predictions1\n"
   ]
  },
  {
   "cell_type": "code",
   "execution_count": 18,
   "metadata": {},
   "outputs": [
    {
     "data": {
      "text/plain": [
       "Text(0.5, 1.0, 'Гистограмма частот объемов запасов в скважинах региона №1 (действительные vs прогнозируемые значения)')"
      ]
     },
     "execution_count": 18,
     "metadata": {},
     "output_type": "execute_result"
    },
    {
     "data": {
      "text/plain": [
       "<Figure size 1440x720 with 0 Axes>"
      ]
     },
     "metadata": {},
     "output_type": "display_data"
    },
    {
     "data": {
      "image/png": "[encoded data removed]",
      "text/plain": [
       "<Figure size 1080x720 with 1 Axes>"
      ]
     },
     "metadata": {
      "needs_background": "light"
     },
     "output_type": "display_data"
    }
   ],
   "source": [
    "#Строим гистограмму частот объёмом запасов в скважинах для действительных и прогнозируемых значений\n",
    "plt.figure(figsize=(20,10))\n",
    "plt.figure(figsize=(15,10))\n",
    "geo1_predict['product_geo1'].hist(grid=True, label='фактическое значение')\n",
    "geo1_predict['predictions_geo1'].hist(grid=True, label='прогнозируемое значение')\n",
    "\n",
    "plt.legend(fontsize=17)\n",
    "plt.xlabel('Объём запасов (тыс. бареллей)',\n",
    "         fontsize=15)\n",
    "plt.ylabel('Частота',\n",
    "         fontsize=15)\n",
    "plt.title('Гистограмма частот объемов запасов в скважинах региона №1 (действительные vs прогнозируемые значения)',\n",
    "         fontsize=17)\n"
   ]
  },
  {
   "cell_type": "markdown",
   "metadata": {},
   "source": [
    "### Регион №2"
   ]
  },
  {
   "cell_type": "code",
   "execution_count": 19,
   "metadata": {},
   "outputs": [],
   "source": [
    "features2 = data2.drop('product', axis=1)\n",
    "target2 =  data2['product'] \n",
    "\n",
    "features2_train, features2_valid, target2_train, target2_valid = train_test_split(features2, \n",
    "                                                                                  target2, \n",
    "                                                                                  train_size=0.75, \n",
    "                                                                                  random_state=12345) "
   ]
  },
  {
   "cell_type": "markdown",
   "metadata": {
    "scrolled": true
   },
   "source": [
    "scaler2 = StandardScaler()\n",
    "scaler2.fit(features2_train[numeric]) \n",
    "features2_train[numeric] = scaler2.transform(features2_train[numeric])\n",
    "\n",
    "features2_valid[numeric] = scaler2.transform(features2_valid[numeric]) \n",
    "\n",
    "print(features2_train)"
   ]
  },
  {
   "cell_type": "code",
   "execution_count": 20,
   "metadata": {},
   "outputs": [
    {
     "name": "stdout",
     "output_type": "stream",
     "text": [
      "RMSE модели линейной регрессии на валидационной выборке: 0.893099286775616 тыс. баррелей\n",
      "Средний запас прогнозируемого сырья: 68.728546895446 тыс. баррелей\n"
     ]
    }
   ],
   "source": [
    "model2 = LinearRegression()\n",
    "\n",
    "model2.fit(features2_train, target2_train) \n",
    "\n",
    "predictions2 = model2.predict(features2_valid) \n",
    "\n",
    "result = mean_squared_error(target2_valid, predictions2) ** 0.5\n",
    "mean_predicted_volume2 = predictions2.sum() / len(predictions2)\n",
    "print(\"RMSE модели линейной регрессии на валидационной выборке:\", result, 'тыс. баррелей')\n",
    "print(\"Средний запас прогнозируемого сырья:\", mean_predicted_volume2, 'тыс. баррелей')"
   ]
  },
  {
   "cell_type": "code",
   "execution_count": 21,
   "metadata": {},
   "outputs": [],
   "source": [
    "geo2_predict = pd.DataFrame()\n",
    "\n",
    "geo2_predict['product_geo2'] = target2_valid\n",
    "geo2_predict['predictions_geo2'] = predictions2"
   ]
  },
  {
   "cell_type": "code",
   "execution_count": 22,
   "metadata": {},
   "outputs": [
    {
     "data": {
      "text/plain": [
       "Text(0.5, 1.0, 'Гистограмма частот объемов запасов в скважинах региона №2 (действительные vs прогнозируемое значения)')"
      ]
     },
     "execution_count": 22,
     "metadata": {},
     "output_type": "execute_result"
    },
    {
     "data": {
      "text/plain": [
       "<Figure size 1440x720 with 0 Axes>"
      ]
     },
     "metadata": {},
     "output_type": "display_data"
    },
    {
     "data": {
      "image/png": "[encoded data removed]",
      "text/plain": [
       "<Figure size 1440x720 with 1 Axes>"
      ]
     },
     "metadata": {
      "needs_background": "light"
     },
     "output_type": "display_data"
    }
   ],
   "source": [
    "plt.figure(figsize=(20,10))\n",
    "plt.figure(figsize=(20,10))\n",
    "geo2_predict['product_geo2'].hist(grid=True, label='фактическое значение')\n",
    "geo2_predict['predictions_geo2'].hist(grid=True, label='прогнозируемое значение')\n",
    "\n",
    "plt.legend(fontsize=17)\n",
    "plt.xlabel('Объём запасов (тыс. бареллей)',\n",
    "         fontsize=15)\n",
    "plt.ylabel('Частота',\n",
    "         fontsize=15)\n",
    "plt.title('Гистограмма частот объемов запасов в скважинах региона №2 (действительные vs прогнозируемое значения)',\n",
    "         fontsize=17)"
   ]
  },
  {
   "cell_type": "markdown",
   "metadata": {},
   "source": [
    "### Регион №3"
   ]
  },
  {
   "cell_type": "code",
   "execution_count": 23,
   "metadata": {},
   "outputs": [],
   "source": [
    "features3 = data3.drop('product', axis=1)\n",
    "target3 =  data3['product'] \n",
    "\n",
    "features3_train, features3_valid, target3_train, target3_valid = train_test_split(features3, \n",
    "                                                                                  target3, \n",
    "                                                                                  train_size=0.75, \n",
    "                                                                                  random_state=12345) "
   ]
  },
  {
   "cell_type": "code",
   "execution_count": 24,
   "metadata": {},
   "outputs": [
    {
     "name": "stdout",
     "output_type": "stream",
     "text": [
      "             f0        f1        f2\n",
      "27212 -0.526160  0.776329 -0.400793\n",
      "7866  -0.889625 -0.404070 -1.222936\n",
      "62041 -1.133984  0.208576  0.296765\n",
      "70185  1.227045  1.570166 -0.764556\n",
      "82230 -0.194289  0.878312  0.840821\n",
      "...         ...       ...       ...\n",
      "4094  -1.815240  0.398261  1.821017\n",
      "85412 -0.274576 -1.265211  0.245519\n",
      "2177   0.368564  0.797225  0.665575\n",
      "77285 -2.440690  0.113784  0.440907\n",
      "86498 -1.732468  0.393573 -1.424465\n",
      "\n",
      "[75000 rows x 3 columns]\n"
     ]
    }
   ],
   "source": [
    "scaler3 = StandardScaler()\n",
    "scaler3.fit(features3_train[numeric]) \n",
    "features3_train[numeric] = scaler3.transform(features3_train[numeric])\n",
    "\n",
    "features3_valid[numeric] = scaler3.transform(features3_valid[numeric]) \n",
    "\n",
    "print(features3_train)"
   ]
  },
  {
   "cell_type": "code",
   "execution_count": 25,
   "metadata": {},
   "outputs": [
    {
     "name": "stdout",
     "output_type": "stream",
     "text": [
      "RMSE модели линейной регрессии на валидационной выборке: 40.02970873393434 тыс. баррелей\n",
      "Средний запас прогнозируемого сырья: 94.96504596800489 тыс. баррелей\n"
     ]
    }
   ],
   "source": [
    "model3 = LinearRegression()\n",
    "\n",
    "model3.fit(features3_train, target3_train) \n",
    "\n",
    "predictions3 = model3.predict(features3_valid) \n",
    "\n",
    "result = mean_squared_error(target3_valid, predictions3) ** 0.5\n",
    "mean_predicted_volume3 = predictions3.sum() / len(predictions3)\n",
    "print(\"RMSE модели линейной регрессии на валидационной выборке:\", result, 'тыс. баррелей')\n",
    "print(\"Средний запас прогнозируемого сырья:\", mean_predicted_volume3, 'тыс. баррелей')"
   ]
  },
  {
   "cell_type": "code",
   "execution_count": 26,
   "metadata": {},
   "outputs": [
    {
     "data": {
      "text/html": [
       "<div>\n",
       "<style scoped>\n",
       "    .dataframe tbody tr th:only-of-type {\n",
       "        vertical-align: middle;\n",
       "    }\n",
       "\n",
       "    .dataframe tbody tr th {\n",
       "        vertical-align: top;\n",
       "    }\n",
       "\n",
       "    .dataframe thead th {\n",
       "        text-align: right;\n",
       "    }\n",
       "</style>\n",
       "<table border=\"1\" class=\"dataframe\">\n",
       "  <thead>\n",
       "    <tr style=\"text-align: right;\">\n",
       "      <th></th>\n",
       "      <th>product_geo3</th>\n",
       "      <th>predictions_geo3</th>\n",
       "    </tr>\n",
       "  </thead>\n",
       "  <tbody>\n",
       "    <tr>\n",
       "      <td>71751</td>\n",
       "      <td>61.212375</td>\n",
       "      <td>93.599633</td>\n",
       "    </tr>\n",
       "    <tr>\n",
       "      <td>80493</td>\n",
       "      <td>41.850118</td>\n",
       "      <td>75.105159</td>\n",
       "    </tr>\n",
       "    <tr>\n",
       "      <td>2655</td>\n",
       "      <td>57.776581</td>\n",
       "      <td>90.066809</td>\n",
       "    </tr>\n",
       "    <tr>\n",
       "      <td>53233</td>\n",
       "      <td>100.053761</td>\n",
       "      <td>105.162375</td>\n",
       "    </tr>\n",
       "    <tr>\n",
       "      <td>91141</td>\n",
       "      <td>109.897122</td>\n",
       "      <td>115.303310</td>\n",
       "    </tr>\n",
       "    <tr>\n",
       "      <td>...</td>\n",
       "      <td>...</td>\n",
       "      <td>...</td>\n",
       "    </tr>\n",
       "    <tr>\n",
       "      <td>12581</td>\n",
       "      <td>28.492402</td>\n",
       "      <td>78.765887</td>\n",
       "    </tr>\n",
       "    <tr>\n",
       "      <td>18456</td>\n",
       "      <td>21.431303</td>\n",
       "      <td>95.603394</td>\n",
       "    </tr>\n",
       "    <tr>\n",
       "      <td>73035</td>\n",
       "      <td>125.487229</td>\n",
       "      <td>99.407281</td>\n",
       "    </tr>\n",
       "    <tr>\n",
       "      <td>63834</td>\n",
       "      <td>99.422903</td>\n",
       "      <td>77.779912</td>\n",
       "    </tr>\n",
       "    <tr>\n",
       "      <td>43558</td>\n",
       "      <td>127.445075</td>\n",
       "      <td>129.032417</td>\n",
       "    </tr>\n",
       "  </tbody>\n",
       "</table>\n",
       "<p>25000 rows × 2 columns</p>\n",
       "</div>"
      ],
      "text/plain": [
       "       product_geo3  predictions_geo3\n",
       "71751     61.212375         93.599633\n",
       "80493     41.850118         75.105159\n",
       "2655      57.776581         90.066809\n",
       "53233    100.053761        105.162375\n",
       "91141    109.897122        115.303310\n",
       "...             ...               ...\n",
       "12581     28.492402         78.765887\n",
       "18456     21.431303         95.603394\n",
       "73035    125.487229         99.407281\n",
       "63834     99.422903         77.779912\n",
       "43558    127.445075        129.032417\n",
       "\n",
       "[25000 rows x 2 columns]"
      ]
     },
     "execution_count": 26,
     "metadata": {},
     "output_type": "execute_result"
    }
   ],
   "source": [
    "geo3_predict = pd.DataFrame()\n",
    "geo3_predict['product_geo3'] = target3_valid\n",
    "geo3_predict['predictions_geo3'] = predictions3\n",
    "geo3_predict"
   ]
  },
  {
   "cell_type": "code",
   "execution_count": 27,
   "metadata": {},
   "outputs": [
    {
     "data": {
      "text/plain": [
       "Text(0.5, 1.0, 'Гистограмма частот объемов запасов в скважинах региона №3 (действительные vs прогнозируемые значения)')"
      ]
     },
     "execution_count": 27,
     "metadata": {},
     "output_type": "execute_result"
    },
    {
     "data": {
      "image/png": "[encoded data removed]",
      "text/plain": [
       "<Figure size 1440x720 with 1 Axes>"
      ]
     },
     "metadata": {
      "needs_background": "light"
     },
     "output_type": "display_data"
    }
   ],
   "source": [
    "plt.figure(figsize=(20,10))\n",
    "geo3_predict['product_geo3'].hist(grid=True, label='фактическое значение')\n",
    "geo3_predict['predictions_geo3'].hist(grid=True, label='прогнозируемое значение')\n",
    "\n",
    "plt.legend(fontsize=17)\n",
    "plt.xlabel('Объём запасов (тыс. бареллей)',\n",
    "         fontsize=15)\n",
    "plt.ylabel('Частота',\n",
    "         fontsize=15)\n",
    "plt.title('Гистограмма частот объемов запасов в скважинах региона №3 (действительные vs прогнозируемые значения)',\n",
    "         fontsize=17)"
   ]
  },
  {
   "cell_type": "markdown",
   "metadata": {},
   "source": [
    "<div class=\"alert alert-block alert-info\">\n",
    "    \n",
    "**Выводы по пункту 3:**\n",
    "1. После подсчета **RMSE** («корень из средней квадратичной ошибки») увидели, что в первом и третьем регионах данные схожи. Наблюдается отклонение в 37 и 40 тыс. баррелей соответсвенно. В то время как во втором регионе этот показатель равен всего 0.89 тыс. баррелей.\n",
    "2. Распределения объемов запасов первого и третьего регионов близки к нормальному, однако распределение второго региона сильно отличное от нормального. \n",
    "3. Средний запас прогнозируемого сырья первого и третьего региона также схожи и составляют 92 и 94 тыс. баррелей соответсвенно\n",
    "4. У второго региона Средний запас прогнозируемого сырья равен 68 тыс. баррелей, что значительно меньше первого и второго регионов. Однако, из-за специфических данных, прогноируемые значения более точные, чем во втором и третьем регионах, так как средний разброс значений равен 0,89 тыс. баррелей"
   ]
  },
  {
   "cell_type": "markdown",
   "metadata": {},
   "source": [
    "## Подготовка к расчёту прибыли"
   ]
  },
  {
   "cell_type": "code",
   "execution_count": 28,
   "metadata": {},
   "outputs": [],
   "source": [
    "budget = 10**10\n",
    "price_per_barrel = 450000\n",
    "wells = 200\n",
    "research_n = 500"
   ]
  },
  {
   "cell_type": "code",
   "execution_count": 29,
   "metadata": {},
   "outputs": [],
   "source": [
    "geo1_predict['price'] = geo1_predict['product_geo1'] * price_per_barrel \n",
    "geo2_predict['price'] = geo2_predict['product_geo2'] * price_per_barrel \n",
    "geo3_predict['price'] = geo3_predict['product_geo3'] * price_per_barrel "
   ]
  },
  {
   "cell_type": "code",
   "execution_count": 30,
   "metadata": {},
   "outputs": [
    {
     "name": "stdout",
     "output_type": "stream",
     "text": [
      "Точка безубыточности равна 50000000 денежных единиц или 111 тыс. баррелей нефти\n"
     ]
    }
   ],
   "source": [
    "print('Точка безубыточности равна {:.0f} денежных единиц или {:.0f} тыс. баррелей нефти'\\\n",
    "      .format((budget/wells),(budget/(price_per_barrel*wells))))"
   ]
  },
  {
   "cell_type": "code",
   "execution_count": 31,
   "metadata": {},
   "outputs": [],
   "source": [
    "#target - фактические производительности скважи\n",
    "#probabilities - прогнозируемые производительности скважи\n",
    "#count - количество скважин, которые выбираем\n",
    "def profit(target, probabilities, count):\n",
    "    probs_sorted = probabilities.sort_values(ascending=False)\n",
    "    selected = target[probs_sorted.index][:count]\n",
    "    revenue = (selected.sum() * price_per_barrel - budget) / 10**3\n",
    "    return revenue"
   ]
  },
  {
   "cell_type": "markdown",
   "metadata": {},
   "source": [
    "В данном пункте была найдена точна безубыточности, то есть сколько баррелей нефти необходимо производить каждой скважине, чтобы покрывать все свои затраты. Из расчета того, что мы можем выбрать только 200 скважин для разработи, получается, что из выделенных 10 млрд. на каждую скважину приходится 50млн. А исходя из цены за баррель в 450000 руб., можно рассчитать, что:\n",
    "\n",
    "**`Каждая скважина должна производить в среднем 111 тыс. баррелей нефти для покрытия возникших затрат для её разработки`**\n",
    "\n",
    "В данном пункте также была написана функция для расчета прибыли. Прогнозированные данные были отсортированы по убыванию. Из них сделали срез 200 скважин (столько скважин для разработки выберут в конечном итоге по условию проекта). Далее расчитали прибыль для этих 200 скважин (из выручки(количество`*`цена) вычли операционные затраты)\n",
    "\n",
    "Далее применим данную функцию для расчета прибыли по всем регионам"
   ]
  },
  {
   "cell_type": "markdown",
   "metadata": {},
   "source": [
    "## Расчёт прибыли и рисков "
   ]
  },
  {
   "cell_type": "code",
   "execution_count": 32,
   "metadata": {},
   "outputs": [],
   "source": [
    "max_profit1 = profit(target1_valid, geo1_predict['predictions_geo1'], wells)\n",
    "max_profit2 = profit(target2_valid, geo2_predict['predictions_geo2'], wells)\n",
    "max_profit3 = profit(target3_valid, geo3_predict['predictions_geo3'], wells)"
   ]
  },
  {
   "cell_type": "code",
   "execution_count": 33,
   "metadata": {},
   "outputs": [
    {
     "name": "stdout",
     "output_type": "stream",
     "text": [
      "Прибыль двухсот наиболее богатых нефтью скважин региона 1 составит 3320826.04 тыс. денежных единиц\n",
      "Прибыль двухсот наиболее богатых нефтью скважин региона 2 составит 2415086.70 тыс. денежных единиц\n",
      "Прибыль двухсот наиболее богатых нефтью скважин региона 3 составит 2710349.96 тыс. денежных единиц\n"
     ]
    }
   ],
   "source": [
    "print('Прибыль двухсот наиболее богатых нефтью скважин региона 1 составит {:.2f} тыс. денежных единиц'.format(max_profit1))\n",
    "print('Прибыль двухсот наиболее богатых нефтью скважин региона 2 составит {:.2f} тыс. денежных единиц'.format(max_profit2))\n",
    "print('Прибыль двухсот наиболее богатых нефтью скважин региона 3 составит {:.2f} тыс. денежных единиц'.format(max_profit3))"
   ]
  },
  {
   "cell_type": "code",
   "execution_count": 34,
   "metadata": {},
   "outputs": [],
   "source": [
    "#target - фактические производительности скважи\n",
    "#predictions - прогнозируемые производительности скважи\n",
    "#well_count - количество скважин, которые выбираем\n",
    "#sample_n - количество исследуемых скважин при разведке\n",
    "\n",
    "def bootstrap(target, predictions, sample_n, well_count):\n",
    "    state = np.random.RandomState(12345)\n",
    "\n",
    "    values = []\n",
    "\n",
    "    for i in range(1000): #Применили технику Bootstrap с 1000 выборок\n",
    "        target_subsample = target.sample(n=sample_n, replace=True, random_state=state)\n",
    "        probs_subsample = predictions[target_subsample.index]\n",
    "        values.append(profit(target_subsample, probs_subsample, wells))\n",
    "    \n",
    "    values = pd.Series(values)\n",
    "    \n",
    "    lower = values.quantile(0.025) \n",
    "    mean = values.mean() \n",
    "    upper = values.quantile(0.975) \n",
    "    risk = st.percentileofscore(values, 0) \n",
    "    \n",
    "\n",
    "\n",
    "    print('Средняя выручка региона {:.2f} тыс. денежных единиц'.format(mean))\n",
    "    print('95% доверительный интервал: ({:.2f}) - ({:.2f}) тыс. денежных единиц'.format(lower, upper))\n",
    "    print('Риск убытка региона: {:.2}%'.format(risk))"
   ]
  },
  {
   "cell_type": "code",
   "execution_count": 35,
   "metadata": {},
   "outputs": [
    {
     "name": "stdout",
     "output_type": "stream",
     "text": [
      "Данные по региону №1\n",
      "\n",
      "Средняя выручка региона 425938.53 тыс. денежных единиц\n",
      "95% доверительный интервал: (-102090.09) - (947976.35) тыс. денежных единиц\n",
      "Риск убытка региона: 6.0%\n"
     ]
    }
   ],
   "source": [
    "print('Данные по региону №1')\n",
    "print('')\n",
    "bootstrap(target1_valid, geo1_predict['predictions_geo1'], research_n, wells)"
   ]
  },
  {
   "cell_type": "code",
   "execution_count": 36,
   "metadata": {},
   "outputs": [
    {
     "name": "stdout",
     "output_type": "stream",
     "text": [
      "Данные по региону №2\n",
      "\n",
      "Средняя выручка региона 515222.77 тыс. денежных единиц\n",
      "95% доверительный интервал: (68873.23) - (931547.59) тыс. денежных единиц\n",
      "Риск убытка региона: 1.0%\n"
     ]
    }
   ],
   "source": [
    "print('Данные по региону №2')\n",
    "print('')\n",
    "bootstrap(target2_valid, geo2_predict['predictions_geo2'], research_n, wells)"
   ]
  },
  {
   "cell_type": "code",
   "execution_count": 37,
   "metadata": {},
   "outputs": [
    {
     "name": "stdout",
     "output_type": "stream",
     "text": [
      "Данные по региону №3\n",
      "\n",
      "Средняя выручка региона 435008.36 тыс. денежных единиц\n",
      "95% доверительный интервал: (-128880.55) - (969706.95) тыс. денежных единиц\n",
      "Риск убытка региона: 6.4%\n"
     ]
    }
   ],
   "source": [
    "print('Данные по региону №3')\n",
    "print('')\n",
    "bootstrap(target3_valid, geo3_predict['predictions_geo3'], research_n, wells)"
   ]
  },
  {
   "cell_type": "markdown",
   "metadata": {},
   "source": [
    "## Общий вывод"
   ]
  },
  {
   "cell_type": "markdown",
   "metadata": {},
   "source": [
    "<div class=\"alert alert-block alert-info\">\n",
    "\n",
    "**В ходе проекта были выполнены следующие действия:**\n",
    "    \n",
    "1. Получена общая информация о данных\n",
    "2. Проведена предобработка данных\n",
    "    - *удалены лишние столбцы*\n",
    "    - *проведена проверка на дубликаты*\n",
    "    - *данные были стандартизированы методом масштабирования*\n",
    "3. Данные были поделены на две выборки (тренировочную и валидационную) в отношении **75:25**\n",
    "4. Вызвана и обучена на тренировочных данных модель линейной регрессии, также были получены прогнозируемые значения для каждого из трех регионов \n",
    "5. Высчитана метрика **RMSE** для каждого региона и среднее количество запасов для региона\n",
    "6. Рассмотрены распределения прогнозируемых и фактических запасов скважин каждого из регионов\n",
    "7. Написана и применена функция для расчета прибыли 200 наиболее богатых скважин в каждом регионе\n",
    "8. С помощью процедуры **Bootstrap** написана и применена функция для расчета границ 95% доверительного интервала, средней выручки региона и вероятности убытка\n",
    "\n",
    "\n",
    "Исходя из всех вышеописанных действий, можно сделать следующий вывод: \n",
    "\n",
    "`Несмотря на специфичность данных, наиболее выгодным для разработки месторождений нефти является регион под номером 2.2`\n",
    "- В регионе самый высокий показатель средней выручки, который составляет 515,222 млн. денежных единиц, когда в других регионах он составляет 425 и 435 млн. денежных единиц.\n",
    "- В данном регионе риск убытка наименьший и составляет всего 1%, когда в остальных двух вероятность убытка равно 6 и 6,4%. \n",
    "- После расчета прибыли 200 наиболее богатых скважин в регионах видим, что во втором регионе этот показатель является наименьшим. Однако, такой показатель достигается ввиду того, что во втором регионе данные распределены более скучено и показатель RMSE равен всего 0,89 тыс. денежных единиц. То есть отклонение составляет меньше одной тясячи ден. единиц в то время как у региона №1 и №3 данный показатель 37 и 40 тыс. денежных единиц соотвественно. \n",
    "\n",
    "- Регион №1 и №3 исходя из полученных данных являются достаточно схожими по показателям. Однако, вторым по перспективности регион я бы выделил регион №1 ввиду того, что риск убытка составляет 6%, что меньше 6,4 в третьем регионе. Однако, в первом регионе меньше выручка на 10 млн. денежных единиц, а средний запас прогнозируемого сырья составляет 92 тыс. баррелей, а в третьем регионе 94 тыс баррелей. Но в данных регионах корень из квадратичной ошибки также высок - 37 и 40 тыс. баррелей соответственно. (а это составляет 40% и 42% от среднего запаса прогнозируемого сырья - что достаточно много)  \n",
    "\n",
    "**`Вывод: добывающей компании «ГлавРосГосНефть» предложено бурить новую скважину в регионе №2 ввиду вышеизложенных фактов`**"
   ]
  }
 ],
 "metadata": {
  "kernelspec": {
   "display_name": "Python 3",
   "language": "python",
   "name": "python3"
  },
  "language_info": {
   "codemirror_mode": {
    "name": "ipython",
    "version": 3
   },
   "file_extension": ".py",
   "mimetype": "text/x-python",
   "name": "python",
   "nbconvert_exporter": "python",
   "pygments_lexer": "ipython3",
   "version": "3.7.8"
  },
  "toc": {
   "base_numbering": 1,
   "nav_menu": {
    "height": "12px",
    "width": "160px"
   },
   "number_sections": true,
   "sideBar": true,
   "skip_h1_title": true,
   "title_cell": "Содержание",
   "title_sidebar": "Содержание",
   "toc_cell": false,
   "toc_position": {},
   "toc_section_display": true,
   "toc_window_display": true
  }
 },
 "nbformat": 4,
 "nbformat_minor": 2
}
